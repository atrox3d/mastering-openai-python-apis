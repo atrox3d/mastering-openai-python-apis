{
 "cells": [
  {
   "cell_type": "markdown",
   "metadata": {},
   "source": [
    "## imports"
   ]
  },
  {
   "cell_type": "code",
   "execution_count": 42,
   "metadata": {},
   "outputs": [],
   "source": [
    "import os, json\n",
    "import openai\n",
    "import ollama\n",
    "from dotenv import dotenv_values, load_dotenv\n",
    "import pandas as pd\n",
    "import numpy as np"
   ]
  },
  {
   "cell_type": "markdown",
   "metadata": {},
   "source": [
    "## create clients"
   ]
  },
  {
   "cell_type": "code",
   "execution_count": 43,
   "metadata": {},
   "outputs": [],
   "source": [
    "load_dotenv()\n",
    "client = openai.OpenAI()\n",
    "embed_client = ollama.Client()"
   ]
  },
  {
   "cell_type": "code",
   "execution_count": 44,
   "metadata": {},
   "outputs": [],
   "source": [
    "# response = client.embeddings.create(\n",
    "#     input=\"Your text string goes here\",\n",
    "#     model=\"text-embedding-ada-002\"\n",
    "# )\n",
    "\n",
    "# print(response.data[0].embedding)"
   ]
  },
  {
   "cell_type": "markdown",
   "metadata": {},
   "source": [
    "## test free embedding models"
   ]
  },
  {
   "cell_type": "code",
   "execution_count": 45,
   "metadata": {},
   "outputs": [
    {
     "data": {
      "text/plain": [
       "[0.0035244038,\n",
       " -0.027790122,\n",
       " -0.007375986,\n",
       " 0.0015292541,\n",
       " -0.0186261,\n",
       " 0.024424428,\n",
       " 0.010697802,\n",
       " -0.006578716,\n",
       " 0.04246506,\n",
       " 0.0021017815]"
      ]
     },
     "execution_count": 45,
     "metadata": {},
     "output_type": "execute_result"
    }
   ],
   "source": [
    "brian = embed_client.embed(\n",
    "    # model='nomic-embed-text:latest',\n",
    "    model='mxbai-embed-large:latest',\n",
    "    # model='llama3.2',\n",
    "    input='brian'\n",
    ")\n",
    "\n",
    "brian.embeddings[0][:10]"
   ]
  },
  {
   "cell_type": "code",
   "execution_count": 46,
   "metadata": {},
   "outputs": [
    {
     "data": {
      "text/plain": [
       "1024"
      ]
     },
     "execution_count": 46,
     "metadata": {},
     "output_type": "execute_result"
    }
   ],
   "source": [
    "len(brian.embeddings[0])"
   ]
  },
  {
   "cell_type": "markdown",
   "metadata": {},
   "source": [
    "## create dataset"
   ]
  },
  {
   "cell_type": "code",
   "execution_count": 47,
   "metadata": {},
   "outputs": [],
   "source": [
    "DATA_PATH = 'data'\n",
    "INPUT_FILE = 'all-movie-plots.csv'\n",
    "OUTPUT_FILE = 'movie-plots.csv'\n",
    "INPUT_PATH = f'{DATA_PATH}/{INPUT_FILE}'\n",
    "OUTPUT_PATH = f'{DATA_PATH}/{OUTPUT_FILE}'"
   ]
  },
  {
   "cell_type": "code",
   "execution_count": 48,
   "metadata": {},
   "outputs": [
    {
     "data": {
      "application/vnd.microsoft.datawrangler.viewer.v0+json": {
       "columns": [
        {
         "name": "index",
         "rawType": "int64",
         "type": "integer"
        },
        {
         "name": "Release Year",
         "rawType": "int64",
         "type": "integer"
        },
        {
         "name": "Title",
         "rawType": "object",
         "type": "string"
        },
        {
         "name": "Origin/Ethnicity",
         "rawType": "object",
         "type": "string"
        },
        {
         "name": "Director",
         "rawType": "object",
         "type": "string"
        },
        {
         "name": "Cast",
         "rawType": "object",
         "type": "unknown"
        },
        {
         "name": "Genre",
         "rawType": "object",
         "type": "string"
        },
        {
         "name": "Wiki Page",
         "rawType": "object",
         "type": "string"
        },
        {
         "name": "Plot",
         "rawType": "object",
         "type": "string"
        }
       ],
       "conversionMethod": "pd.DataFrame",
       "ref": "63b68b53-5747-430a-bde8-3c062faba51a",
       "rows": [
        [
         "0",
         "1901",
         "Kansas Saloon Smashers",
         "American",
         "Unknown",
         null,
         "unknown",
         "https://en.wikipedia.org/wiki/Kansas_Saloon_Smashers",
         "A bartender is working at a saloon, serving drinks to customers. After he fills a stereotypically Irish man's bucket with beer, Carrie Nation and her followers burst inside. They assault the Irish man, pulling his hat over his eyes and then dumping the beer over his head. The group then begin wrecking the bar, smashing the fixtures, mirrors, and breaking the cash register. The bartender then sprays seltzer water in Nation's face before a group of policemen appear and order everybody to leave.[1]"
        ],
        [
         "1",
         "1901",
         "Love by the Light of the Moon",
         "American",
         "Unknown",
         null,
         "unknown",
         "https://en.wikipedia.org/wiki/Love_by_the_Light_of_the_Moon",
         "The moon, painted with a smiling face hangs over a park at night. A young couple walking past a fence learn on a railing and look up. The moon smiles. They embrace, and the moon's smile gets bigger. They then sit down on a bench by a tree. The moon's view is blocked, causing him to frown. In the last scene, the man fans the woman with his hat because the moon has left the sky and is perched over her shoulder to see everything better."
        ],
        [
         "2",
         "1901",
         "The Martyred Presidents",
         "American",
         "Unknown",
         null,
         "unknown",
         "https://en.wikipedia.org/wiki/The_Martyred_Presidents",
         "The film, just over a minute long, is composed of two shots. In the first, a girl sits at the base of an altar or tomb, her face hidden from the camera. At the center of the altar, a viewing portal displays the portraits of three U.S. Presidents—Abraham Lincoln, James A. Garfield, and William McKinley—each victims of assassination.\r\nIn the second shot, which runs just over eight seconds long, an assassin kneels feet of Lady Justice."
        ],
        [
         "3",
         "1901",
         "Terrible Teddy, the Grizzly King",
         "American",
         "Unknown",
         null,
         "unknown",
         "https://en.wikipedia.org/wiki/Terrible_Teddy,_the_Grizzly_King",
         "Lasting just 61 seconds and consisting of two shots, the first shot is set in a wood during winter. The actor representing then vice-president Theodore Roosevelt enthusiastically hurries down a hillside towards a tree in the foreground. He falls once, but rights himself and cocks his rifle. Two other men, bearing signs reading \"His Photographer\" and \"His Press Agent\" respectively, follow him into the shot; the photographer sets up his camera. \"Teddy\" aims his rifle upward at the tree and fells what appears to be a common house cat, which he then proceeds to stab. \"Teddy\" holds his prize aloft, and the press agent takes notes. The second shot is taken in a slightly different part of the wood, on a path. \"Teddy\" rides the path on his horse towards the camera and out to the left of the shot, followed closely by the press agent and photographer, still dutifully holding their signs."
        ],
        [
         "4",
         "1902",
         "Jack and the Beanstalk",
         "American",
         "George S. Fleming, Edwin S. Porter",
         null,
         "unknown",
         "https://en.wikipedia.org/wiki/Jack_and_the_Beanstalk_(1902_film)",
         "The earliest known adaptation of the classic fairytale, this films shows Jack trading his cow for the beans, his mother forcing him to drop them in the front yard, and beig forced upstairs. As he sleeps, Jack is visited by a fairy who shows him glimpses of what will await him when he ascends the bean stalk. In this version, Jack is the son of a deposed king. When Jack wakes up, he finds the beanstalk has grown and he climbs to the top where he enters the giant's home. The giant finds Jack, who narrowly escapes. The giant chases Jack down the bean stalk, but Jack is able to cut it down before the giant can get to safety. He falls and is killed as Jack celebrates. The fairy then reveals that Jack may return home as a prince."
        ]
       ],
       "shape": {
        "columns": 8,
        "rows": 5
       }
      },
      "text/html": [
       "<div>\n",
       "<style scoped>\n",
       "    .dataframe tbody tr th:only-of-type {\n",
       "        vertical-align: middle;\n",
       "    }\n",
       "\n",
       "    .dataframe tbody tr th {\n",
       "        vertical-align: top;\n",
       "    }\n",
       "\n",
       "    .dataframe thead th {\n",
       "        text-align: right;\n",
       "    }\n",
       "</style>\n",
       "<table border=\"1\" class=\"dataframe\">\n",
       "  <thead>\n",
       "    <tr style=\"text-align: right;\">\n",
       "      <th></th>\n",
       "      <th>Release Year</th>\n",
       "      <th>Title</th>\n",
       "      <th>Origin/Ethnicity</th>\n",
       "      <th>Director</th>\n",
       "      <th>Cast</th>\n",
       "      <th>Genre</th>\n",
       "      <th>Wiki Page</th>\n",
       "      <th>Plot</th>\n",
       "    </tr>\n",
       "  </thead>\n",
       "  <tbody>\n",
       "    <tr>\n",
       "      <th>0</th>\n",
       "      <td>1901</td>\n",
       "      <td>Kansas Saloon Smashers</td>\n",
       "      <td>American</td>\n",
       "      <td>Unknown</td>\n",
       "      <td>NaN</td>\n",
       "      <td>unknown</td>\n",
       "      <td>https://en.wikipedia.org/wiki/Kansas_Saloon_Smashers</td>\n",
       "      <td>A bartender is working at a saloon, serving drinks to customers. After he fills a stereotypically Irish man's bucket with beer, Carrie Nation and her followers burst inside. They assault the Irish man, pulling his hat over his eyes and then dumping the beer over his head. The group then begin wrecking the bar, smashing the fixtures, mirrors, and breaking the cash register. The bartender then sprays seltzer water in Nation's face before a group of policemen appear and order everybody to leave.[1]</td>\n",
       "    </tr>\n",
       "    <tr>\n",
       "      <th>1</th>\n",
       "      <td>1901</td>\n",
       "      <td>Love by the Light of the Moon</td>\n",
       "      <td>American</td>\n",
       "      <td>Unknown</td>\n",
       "      <td>NaN</td>\n",
       "      <td>unknown</td>\n",
       "      <td>https://en.wikipedia.org/wiki/Love_by_the_Light_of_the_Moon</td>\n",
       "      <td>The moon, painted with a smiling face hangs over a park at night. A young couple walking past a fence learn on a railing and look up. The moon smiles. They embrace, and the moon's smile gets bigger. They then sit down on a bench by a tree. The moon's view is blocked, causing him to frown. In the last scene, the man fans the woman with his hat because the moon has left the sky and is perched over her shoulder to see everything better.</td>\n",
       "    </tr>\n",
       "    <tr>\n",
       "      <th>2</th>\n",
       "      <td>1901</td>\n",
       "      <td>The Martyred Presidents</td>\n",
       "      <td>American</td>\n",
       "      <td>Unknown</td>\n",
       "      <td>NaN</td>\n",
       "      <td>unknown</td>\n",
       "      <td>https://en.wikipedia.org/wiki/The_Martyred_Presidents</td>\n",
       "      <td>The film, just over a minute long, is composed of two shots. In the first, a girl sits at the base of an altar or tomb, her face hidden from the camera. At the center of the altar, a viewing portal displays the portraits of three U.S. Presidents—Abraham Lincoln, James A. Garfield, and William McKinley—each victims of assassination.\\r\\nIn the second shot, which runs just over eight seconds long, an assassin kneels feet of Lady Justice.</td>\n",
       "    </tr>\n",
       "    <tr>\n",
       "      <th>3</th>\n",
       "      <td>1901</td>\n",
       "      <td>Terrible Teddy, the Grizzly King</td>\n",
       "      <td>American</td>\n",
       "      <td>Unknown</td>\n",
       "      <td>NaN</td>\n",
       "      <td>unknown</td>\n",
       "      <td>https://en.wikipedia.org/wiki/Terrible_Teddy,_the_Grizzly_King</td>\n",
       "      <td>Lasting just 61 seconds and consisting of two shots, the first shot is set in a wood during winter. The actor representing then vice-president Theodore Roosevelt enthusiastically hurries down a hillside towards a tree in the foreground. He falls once, but rights himself and cocks his rifle. Two other men, bearing signs reading \"His Photographer\" and \"His Press Agent\" respectively, follow him into the shot; the photographer sets up his camera. \"Teddy\" aims his rifle upward at the tree and fells what appears to be a common house cat, which he then proceeds to stab. \"Teddy\" holds his prize aloft, and the press agent takes notes. The second shot is taken in a slightly different part of the wood, on a path. \"Teddy\" rides the path on his horse towards the camera and out to the left of the shot, followed closely by the press agent and photographer, still dutifully holding their signs.</td>\n",
       "    </tr>\n",
       "    <tr>\n",
       "      <th>4</th>\n",
       "      <td>1902</td>\n",
       "      <td>Jack and the Beanstalk</td>\n",
       "      <td>American</td>\n",
       "      <td>George S. Fleming, Edwin S. Porter</td>\n",
       "      <td>NaN</td>\n",
       "      <td>unknown</td>\n",
       "      <td>https://en.wikipedia.org/wiki/Jack_and_the_Beanstalk_(1902_film)</td>\n",
       "      <td>The earliest known adaptation of the classic fairytale, this films shows Jack trading his cow for the beans, his mother forcing him to drop them in the front yard, and beig forced upstairs. As he sleeps, Jack is visited by a fairy who shows him glimpses of what will await him when he ascends the bean stalk. In this version, Jack is the son of a deposed king. When Jack wakes up, he finds the beanstalk has grown and he climbs to the top where he enters the giant's home. The giant finds Jack, who narrowly escapes. The giant chases Jack down the bean stalk, but Jack is able to cut it down before the giant can get to safety. He falls and is killed as Jack celebrates. The fairy then reveals that Jack may return home as a prince.</td>\n",
       "    </tr>\n",
       "  </tbody>\n",
       "</table>\n",
       "</div>"
      ],
      "text/plain": [
       "   Release Year                             Title Origin/Ethnicity                            Director Cast    Genre                                                         Wiki Page  \\\n",
       "0          1901            Kansas Saloon Smashers         American                             Unknown  NaN  unknown              https://en.wikipedia.org/wiki/Kansas_Saloon_Smashers   \n",
       "1          1901     Love by the Light of the Moon         American                             Unknown  NaN  unknown       https://en.wikipedia.org/wiki/Love_by_the_Light_of_the_Moon   \n",
       "2          1901           The Martyred Presidents         American                             Unknown  NaN  unknown             https://en.wikipedia.org/wiki/The_Martyred_Presidents   \n",
       "3          1901  Terrible Teddy, the Grizzly King         American                             Unknown  NaN  unknown    https://en.wikipedia.org/wiki/Terrible_Teddy,_the_Grizzly_King   \n",
       "4          1902            Jack and the Beanstalk         American  George S. Fleming, Edwin S. Porter  NaN  unknown  https://en.wikipedia.org/wiki/Jack_and_the_Beanstalk_(1902_film)   \n",
       "\n",
       "                                                                                                                                                                                                                                                                                                                                                                                                                                                                                                                                                                                                                                                                                                                                                                                                                                                                                                                         Plot  \n",
       "0                                                                                                                                                                                                                                                                                                                                                                                                        A bartender is working at a saloon, serving drinks to customers. After he fills a stereotypically Irish man's bucket with beer, Carrie Nation and her followers burst inside. They assault the Irish man, pulling his hat over his eyes and then dumping the beer over his head. The group then begin wrecking the bar, smashing the fixtures, mirrors, and breaking the cash register. The bartender then sprays seltzer water in Nation's face before a group of policemen appear and order everybody to leave.[1]  \n",
       "1                                                                                                                                                                                                                                                                                                                                                                                                                                                                       The moon, painted with a smiling face hangs over a park at night. A young couple walking past a fence learn on a railing and look up. The moon smiles. They embrace, and the moon's smile gets bigger. They then sit down on a bench by a tree. The moon's view is blocked, causing him to frown. In the last scene, the man fans the woman with his hat because the moon has left the sky and is perched over her shoulder to see everything better.  \n",
       "2                                                                                                                                                                                                                                                                                                                                                                                                                                                                      The film, just over a minute long, is composed of two shots. In the first, a girl sits at the base of an altar or tomb, her face hidden from the camera. At the center of the altar, a viewing portal displays the portraits of three U.S. Presidents—Abraham Lincoln, James A. Garfield, and William McKinley—each victims of assassination.\\r\\nIn the second shot, which runs just over eight seconds long, an assassin kneels feet of Lady Justice.  \n",
       "3  Lasting just 61 seconds and consisting of two shots, the first shot is set in a wood during winter. The actor representing then vice-president Theodore Roosevelt enthusiastically hurries down a hillside towards a tree in the foreground. He falls once, but rights himself and cocks his rifle. Two other men, bearing signs reading \"His Photographer\" and \"His Press Agent\" respectively, follow him into the shot; the photographer sets up his camera. \"Teddy\" aims his rifle upward at the tree and fells what appears to be a common house cat, which he then proceeds to stab. \"Teddy\" holds his prize aloft, and the press agent takes notes. The second shot is taken in a slightly different part of the wood, on a path. \"Teddy\" rides the path on his horse towards the camera and out to the left of the shot, followed closely by the press agent and photographer, still dutifully holding their signs.  \n",
       "4                                                                                                                                                                The earliest known adaptation of the classic fairytale, this films shows Jack trading his cow for the beans, his mother forcing him to drop them in the front yard, and beig forced upstairs. As he sleeps, Jack is visited by a fairy who shows him glimpses of what will await him when he ascends the bean stalk. In this version, Jack is the son of a deposed king. When Jack wakes up, he finds the beanstalk has grown and he climbs to the top where he enters the giant's home. The giant finds Jack, who narrowly escapes. The giant chases Jack down the bean stalk, but Jack is able to cut it down before the giant can get to safety. He falls and is killed as Jack celebrates. The fairy then reveals that Jack may return home as a prince.  "
      ]
     },
     "execution_count": 48,
     "metadata": {},
     "output_type": "execute_result"
    }
   ],
   "source": [
    "all_movie_plots = pd.read_csv(INPUT_PATH)\n",
    "all_movie_plots.head()"
   ]
  },
  {
   "cell_type": "code",
   "execution_count": 49,
   "metadata": {},
   "outputs": [
    {
     "data": {
      "application/vnd.microsoft.datawrangler.viewer.v0+json": {
       "columns": [
        {
         "name": "index",
         "rawType": "int64",
         "type": "integer"
        },
        {
         "name": "Release Year",
         "rawType": "int64",
         "type": "integer"
        },
        {
         "name": "Title",
         "rawType": "object",
         "type": "string"
        },
        {
         "name": "Origin/Ethnicity",
         "rawType": "object",
         "type": "string"
        },
        {
         "name": "Director",
         "rawType": "object",
         "type": "string"
        },
        {
         "name": "Cast",
         "rawType": "object",
         "type": "unknown"
        },
        {
         "name": "Genre",
         "rawType": "object",
         "type": "string"
        },
        {
         "name": "Wiki Page",
         "rawType": "object",
         "type": "string"
        },
        {
         "name": "Plot",
         "rawType": "object",
         "type": "string"
        }
       ],
       "conversionMethod": "pd.DataFrame",
       "ref": "c84bf474-0f31-4735-8f31-ecce4342be1d",
       "rows": [
        [
         "0",
         "1901",
         "Kansas Saloon Smashers",
         "American",
         "Unknown",
         null,
         "unknown",
         "https://en.wikipedia.org/wiki/Kansas_Saloon_Smashers",
         "A bartender is working at a saloon, serving drinks to customers. After he fills a stereotypically Irish man's bucket with beer, Carrie Nation and her followers burst inside. They assault the Irish man, pulling his hat over his eyes and then dumping the beer over his head. The group then begin wrecking the bar, smashing the fixtures, mirrors, and breaking the cash register. The bartender then sprays seltzer water in Nation's face before a group of policemen appear and order everybody to leave.[1]"
        ],
        [
         "1",
         "1901",
         "Love by the Light of the Moon",
         "American",
         "Unknown",
         null,
         "unknown",
         "https://en.wikipedia.org/wiki/Love_by_the_Light_of_the_Moon",
         "The moon, painted with a smiling face hangs over a park at night. A young couple walking past a fence learn on a railing and look up. The moon smiles. They embrace, and the moon's smile gets bigger. They then sit down on a bench by a tree. The moon's view is blocked, causing him to frown. In the last scene, the man fans the woman with his hat because the moon has left the sky and is perched over her shoulder to see everything better."
        ],
        [
         "2",
         "1901",
         "The Martyred Presidents",
         "American",
         "Unknown",
         null,
         "unknown",
         "https://en.wikipedia.org/wiki/The_Martyred_Presidents",
         "The film, just over a minute long, is composed of two shots. In the first, a girl sits at the base of an altar or tomb, her face hidden from the camera. At the center of the altar, a viewing portal displays the portraits of three U.S. Presidents—Abraham Lincoln, James A. Garfield, and William McKinley—each victims of assassination.\r\nIn the second shot, which runs just over eight seconds long, an assassin kneels feet of Lady Justice."
        ],
        [
         "3",
         "1901",
         "Terrible Teddy, the Grizzly King",
         "American",
         "Unknown",
         null,
         "unknown",
         "https://en.wikipedia.org/wiki/Terrible_Teddy,_the_Grizzly_King",
         "Lasting just 61 seconds and consisting of two shots, the first shot is set in a wood during winter. The actor representing then vice-president Theodore Roosevelt enthusiastically hurries down a hillside towards a tree in the foreground. He falls once, but rights himself and cocks his rifle. Two other men, bearing signs reading \"His Photographer\" and \"His Press Agent\" respectively, follow him into the shot; the photographer sets up his camera. \"Teddy\" aims his rifle upward at the tree and fells what appears to be a common house cat, which he then proceeds to stab. \"Teddy\" holds his prize aloft, and the press agent takes notes. The second shot is taken in a slightly different part of the wood, on a path. \"Teddy\" rides the path on his horse towards the camera and out to the left of the shot, followed closely by the press agent and photographer, still dutifully holding their signs."
        ],
        [
         "4",
         "1902",
         "Jack and the Beanstalk",
         "American",
         "George S. Fleming, Edwin S. Porter",
         null,
         "unknown",
         "https://en.wikipedia.org/wiki/Jack_and_the_Beanstalk_(1902_film)",
         "The earliest known adaptation of the classic fairytale, this films shows Jack trading his cow for the beans, his mother forcing him to drop them in the front yard, and beig forced upstairs. As he sleeps, Jack is visited by a fairy who shows him glimpses of what will await him when he ascends the bean stalk. In this version, Jack is the son of a deposed king. When Jack wakes up, he finds the beanstalk has grown and he climbs to the top where he enters the giant's home. The giant finds Jack, who narrowly escapes. The giant chases Jack down the bean stalk, but Jack is able to cut it down before the giant can get to safety. He falls and is killed as Jack celebrates. The fairy then reveals that Jack may return home as a prince."
        ]
       ],
       "shape": {
        "columns": 8,
        "rows": 5
       }
      },
      "text/html": [
       "<div>\n",
       "<style scoped>\n",
       "    .dataframe tbody tr th:only-of-type {\n",
       "        vertical-align: middle;\n",
       "    }\n",
       "\n",
       "    .dataframe tbody tr th {\n",
       "        vertical-align: top;\n",
       "    }\n",
       "\n",
       "    .dataframe thead th {\n",
       "        text-align: right;\n",
       "    }\n",
       "</style>\n",
       "<table border=\"1\" class=\"dataframe\">\n",
       "  <thead>\n",
       "    <tr style=\"text-align: right;\">\n",
       "      <th></th>\n",
       "      <th>Release Year</th>\n",
       "      <th>Title</th>\n",
       "      <th>Origin/Ethnicity</th>\n",
       "      <th>Director</th>\n",
       "      <th>Cast</th>\n",
       "      <th>Genre</th>\n",
       "      <th>Wiki Page</th>\n",
       "      <th>Plot</th>\n",
       "    </tr>\n",
       "  </thead>\n",
       "  <tbody>\n",
       "    <tr>\n",
       "      <th>0</th>\n",
       "      <td>1901</td>\n",
       "      <td>Kansas Saloon Smashers</td>\n",
       "      <td>American</td>\n",
       "      <td>Unknown</td>\n",
       "      <td>NaN</td>\n",
       "      <td>unknown</td>\n",
       "      <td>https://en.wikipedia.org/wiki/Kansas_Saloon_Smashers</td>\n",
       "      <td>A bartender is working at a saloon, serving drinks to customers. After he fills a stereotypically Irish man's bucket with beer, Carrie Nation and her followers burst inside. They assault the Irish man, pulling his hat over his eyes and then dumping the beer over his head. The group then begin wrecking the bar, smashing the fixtures, mirrors, and breaking the cash register. The bartender then sprays seltzer water in Nation's face before a group of policemen appear and order everybody to leave.[1]</td>\n",
       "    </tr>\n",
       "    <tr>\n",
       "      <th>1</th>\n",
       "      <td>1901</td>\n",
       "      <td>Love by the Light of the Moon</td>\n",
       "      <td>American</td>\n",
       "      <td>Unknown</td>\n",
       "      <td>NaN</td>\n",
       "      <td>unknown</td>\n",
       "      <td>https://en.wikipedia.org/wiki/Love_by_the_Light_of_the_Moon</td>\n",
       "      <td>The moon, painted with a smiling face hangs over a park at night. A young couple walking past a fence learn on a railing and look up. The moon smiles. They embrace, and the moon's smile gets bigger. They then sit down on a bench by a tree. The moon's view is blocked, causing him to frown. In the last scene, the man fans the woman with his hat because the moon has left the sky and is perched over her shoulder to see everything better.</td>\n",
       "    </tr>\n",
       "    <tr>\n",
       "      <th>2</th>\n",
       "      <td>1901</td>\n",
       "      <td>The Martyred Presidents</td>\n",
       "      <td>American</td>\n",
       "      <td>Unknown</td>\n",
       "      <td>NaN</td>\n",
       "      <td>unknown</td>\n",
       "      <td>https://en.wikipedia.org/wiki/The_Martyred_Presidents</td>\n",
       "      <td>The film, just over a minute long, is composed of two shots. In the first, a girl sits at the base of an altar or tomb, her face hidden from the camera. At the center of the altar, a viewing portal displays the portraits of three U.S. Presidents—Abraham Lincoln, James A. Garfield, and William McKinley—each victims of assassination.\\r\\nIn the second shot, which runs just over eight seconds long, an assassin kneels feet of Lady Justice.</td>\n",
       "    </tr>\n",
       "    <tr>\n",
       "      <th>3</th>\n",
       "      <td>1901</td>\n",
       "      <td>Terrible Teddy, the Grizzly King</td>\n",
       "      <td>American</td>\n",
       "      <td>Unknown</td>\n",
       "      <td>NaN</td>\n",
       "      <td>unknown</td>\n",
       "      <td>https://en.wikipedia.org/wiki/Terrible_Teddy,_the_Grizzly_King</td>\n",
       "      <td>Lasting just 61 seconds and consisting of two shots, the first shot is set in a wood during winter. The actor representing then vice-president Theodore Roosevelt enthusiastically hurries down a hillside towards a tree in the foreground. He falls once, but rights himself and cocks his rifle. Two other men, bearing signs reading \"His Photographer\" and \"His Press Agent\" respectively, follow him into the shot; the photographer sets up his camera. \"Teddy\" aims his rifle upward at the tree and fells what appears to be a common house cat, which he then proceeds to stab. \"Teddy\" holds his prize aloft, and the press agent takes notes. The second shot is taken in a slightly different part of the wood, on a path. \"Teddy\" rides the path on his horse towards the camera and out to the left of the shot, followed closely by the press agent and photographer, still dutifully holding their signs.</td>\n",
       "    </tr>\n",
       "    <tr>\n",
       "      <th>4</th>\n",
       "      <td>1902</td>\n",
       "      <td>Jack and the Beanstalk</td>\n",
       "      <td>American</td>\n",
       "      <td>George S. Fleming, Edwin S. Porter</td>\n",
       "      <td>NaN</td>\n",
       "      <td>unknown</td>\n",
       "      <td>https://en.wikipedia.org/wiki/Jack_and_the_Beanstalk_(1902_film)</td>\n",
       "      <td>The earliest known adaptation of the classic fairytale, this films shows Jack trading his cow for the beans, his mother forcing him to drop them in the front yard, and beig forced upstairs. As he sleeps, Jack is visited by a fairy who shows him glimpses of what will await him when he ascends the bean stalk. In this version, Jack is the son of a deposed king. When Jack wakes up, he finds the beanstalk has grown and he climbs to the top where he enters the giant's home. The giant finds Jack, who narrowly escapes. The giant chases Jack down the bean stalk, but Jack is able to cut it down before the giant can get to safety. He falls and is killed as Jack celebrates. The fairy then reveals that Jack may return home as a prince.</td>\n",
       "    </tr>\n",
       "  </tbody>\n",
       "</table>\n",
       "</div>"
      ],
      "text/plain": [
       "   Release Year                             Title Origin/Ethnicity                            Director Cast    Genre                                                         Wiki Page  \\\n",
       "0          1901            Kansas Saloon Smashers         American                             Unknown  NaN  unknown              https://en.wikipedia.org/wiki/Kansas_Saloon_Smashers   \n",
       "1          1901     Love by the Light of the Moon         American                             Unknown  NaN  unknown       https://en.wikipedia.org/wiki/Love_by_the_Light_of_the_Moon   \n",
       "2          1901           The Martyred Presidents         American                             Unknown  NaN  unknown             https://en.wikipedia.org/wiki/The_Martyred_Presidents   \n",
       "3          1901  Terrible Teddy, the Grizzly King         American                             Unknown  NaN  unknown    https://en.wikipedia.org/wiki/Terrible_Teddy,_the_Grizzly_King   \n",
       "4          1902            Jack and the Beanstalk         American  George S. Fleming, Edwin S. Porter  NaN  unknown  https://en.wikipedia.org/wiki/Jack_and_the_Beanstalk_(1902_film)   \n",
       "\n",
       "                                                                                                                                                                                                                                                                                                                                                                                                                                                                                                                                                                                                                                                                                                                                                                                                                                                                                                                         Plot  \n",
       "0                                                                                                                                                                                                                                                                                                                                                                                                        A bartender is working at a saloon, serving drinks to customers. After he fills a stereotypically Irish man's bucket with beer, Carrie Nation and her followers burst inside. They assault the Irish man, pulling his hat over his eyes and then dumping the beer over his head. The group then begin wrecking the bar, smashing the fixtures, mirrors, and breaking the cash register. The bartender then sprays seltzer water in Nation's face before a group of policemen appear and order everybody to leave.[1]  \n",
       "1                                                                                                                                                                                                                                                                                                                                                                                                                                                                       The moon, painted with a smiling face hangs over a park at night. A young couple walking past a fence learn on a railing and look up. The moon smiles. They embrace, and the moon's smile gets bigger. They then sit down on a bench by a tree. The moon's view is blocked, causing him to frown. In the last scene, the man fans the woman with his hat because the moon has left the sky and is perched over her shoulder to see everything better.  \n",
       "2                                                                                                                                                                                                                                                                                                                                                                                                                                                                      The film, just over a minute long, is composed of two shots. In the first, a girl sits at the base of an altar or tomb, her face hidden from the camera. At the center of the altar, a viewing portal displays the portraits of three U.S. Presidents—Abraham Lincoln, James A. Garfield, and William McKinley—each victims of assassination.\\r\\nIn the second shot, which runs just over eight seconds long, an assassin kneels feet of Lady Justice.  \n",
       "3  Lasting just 61 seconds and consisting of two shots, the first shot is set in a wood during winter. The actor representing then vice-president Theodore Roosevelt enthusiastically hurries down a hillside towards a tree in the foreground. He falls once, but rights himself and cocks his rifle. Two other men, bearing signs reading \"His Photographer\" and \"His Press Agent\" respectively, follow him into the shot; the photographer sets up his camera. \"Teddy\" aims his rifle upward at the tree and fells what appears to be a common house cat, which he then proceeds to stab. \"Teddy\" holds his prize aloft, and the press agent takes notes. The second shot is taken in a slightly different part of the wood, on a path. \"Teddy\" rides the path on his horse towards the camera and out to the left of the shot, followed closely by the press agent and photographer, still dutifully holding their signs.  \n",
       "4                                                                                                                                                                The earliest known adaptation of the classic fairytale, this films shows Jack trading his cow for the beans, his mother forcing him to drop them in the front yard, and beig forced upstairs. As he sleeps, Jack is visited by a fairy who shows him glimpses of what will await him when he ascends the bean stalk. In this version, Jack is the son of a deposed king. When Jack wakes up, he finds the beanstalk has grown and he climbs to the top where he enters the giant's home. The giant finds Jack, who narrowly escapes. The giant chases Jack down the bean stalk, but Jack is able to cut it down before the giant can get to safety. He falls and is killed as Jack celebrates. The fairy then reveals that Jack may return home as a prince.  "
      ]
     },
     "execution_count": 49,
     "metadata": {},
     "output_type": "execute_result"
    }
   ],
   "source": [
    "american_movie_plots = all_movie_plots[all_movie_plots['Origin/Ethnicity'] == 'American']\n",
    "american_movie_plots.head()"
   ]
  },
  {
   "cell_type": "code",
   "execution_count": 50,
   "metadata": {},
   "outputs": [
    {
     "data": {
      "application/vnd.microsoft.datawrangler.viewer.v0+json": {
       "columns": [
        {
         "name": "index",
         "rawType": "int64",
         "type": "integer"
        },
        {
         "name": "Release Year",
         "rawType": "int64",
         "type": "integer"
        },
        {
         "name": "Title",
         "rawType": "object",
         "type": "string"
        },
        {
         "name": "Origin/Ethnicity",
         "rawType": "object",
         "type": "string"
        },
        {
         "name": "Director",
         "rawType": "object",
         "type": "string"
        },
        {
         "name": "Cast",
         "rawType": "object",
         "type": "string"
        },
        {
         "name": "Genre",
         "rawType": "object",
         "type": "string"
        },
        {
         "name": "Wiki Page",
         "rawType": "object",
         "type": "string"
        },
        {
         "name": "Plot",
         "rawType": "object",
         "type": "string"
        }
       ],
       "conversionMethod": "pd.DataFrame",
       "ref": "ae89cf18-0592-4fb8-8411-4a4f40a2c571",
       "rows": [
        [
         "17376",
         "2017",
         "Phantom Thread",
         "American",
         "Paul Thomas Anderson",
         "Paul Thomas Anderson (director/screenplay); Daniel Day-Lewis, Lesley Manville, Richard Graham, Vicky Krieps",
         "drama",
         "https://en.wikipedia.org/wiki/Phantom_Thread",
         "In 1954 London, renowned fashion designer Reynolds Woodcock creates dresses for members of high society. His charisma and genius are matched by his obsessive, controlling and sometimes abusive personality. Cyril, his sister, manages the day-to-day operations of his fashion house and has significant influence over his life. Reynolds is haunted by the death of their mother, and stitches hidden messages into the linings of the dresses he makes.\r\nAfter designing a new gown for a revered client, Reynolds visits a restaurant in the countryside and becomes interested in a waitress, Alma. He asks her on a date, and she accepts. Their relationship develops, and she moves in with him, becoming his assistant, muse and lover. Cyril initially distrusts Alma but comes to respect her willfulness and determination.\r\nAt first, Alma enjoys being a part of Reynolds' work, but he proves aloof and hard to please, and they bicker. When Alma tries to surprise him with a romantic dinner, Reynolds lashes out and they fight. Alma wonders aloud what she is doing in his house beyond either waiting for him to pay attention to her or ask her to leave.\r\nIn order to regain her power in their relationship and to punish and make Reynolds more vulnerable and needy, Alma laces his tea with a small amount of poisonous mushroom gathered outside his country house. The next morning, dizzy and sweating, while he readies a wedding gown for a Belgian princess, he collapses, damaging the dress and forcing his staff to work all night to repair it. He becomes gravely ill and sees his mother in the room; he tells her how much he misses her. Alma nurses him through his fever; when Cyril brings in a doctor, first Reynolds and then Alma tell the doctor to \"Fuck off.\" When Reynolds is well again, he asks Alma to marry him, telling her that there are things that he must do and he cannot do them without her. Alma accepts and they are married.\r\nOn vacation in the Swiss Alps, once again, Reynolds starts saying cruel and cutting things to Alma both privately and in front of their friends; they fight and defy each other again. As Reynolds' anxiety about his work increases, he complains to Cyril about Alma, who enters the room and overhears the conversation; neither Reynolds nor Alma is perturbed. We see Alma in the forest again, gathering mushrooms. One evening, she prepares a poisoned omelette as Reynolds watches her from the dining room table. As he slowly chews his first bite, she informs him that she wants him weak and vulnerable with only her to take care of him; after that, she wants him strong again. Reynolds implicitly consents by swallowing one bite of the omelette, responding, \"Kiss me, my girl, before I'm sick.\" In the next scene, they are in Reynolds' bedroom: Alma sits with Reynolds, in pajamas with a pan in his lap; they smile happily and kiss before he tells her that it's time for her to leave the room to which she responds, \"I'll be right outside the door.\"\r\nLater in a voiceover, Alma imagines their future with children, a rich social life, and her running the dressmaking business as a partner. We see Alma pushing a baby carriage which she hands over to Cyril so that she and Reynolds can go out. In the present moment, we see Reynolds with his head in Alma's lap as they enjoy the fireplace; Reynolds remarks that he is getting hungry."
        ],
        [
         "17243",
         "2017",
         "Everything, Everything",
         "American",
         "Stella Meghie",
         "Stella Meghie (director); J. Mills Goodloe (screenplay); Amandla Stenberg, Nick Robinson, Anika Noni Rose, Ana de la Reguera, Danube Hermosillo",
         "romance, drama",
         "https://en.wikipedia.org/wiki/Everything,_Everything_(film)",
         "Eighteen-year-old Maddy suffers from SCID, an immuno-deficiency disease that prevents her from leaving her home and interacting with others. Her mother, Pauline Whittier, takes care of her with the help of her nurse Carla, who has taken care of Madeline for 15 years. Only Pauline, Carla and Carla's daughter, Rosa, are allowed in the home. Maddy yearns to see the world, particularly the ocean.\r\nOne day, a new family moves next door, and their son, who is Maddy's age, catches her eye. They share a look as Maddy watches through the window. Later that night, while Pauline and Maddy are watching a movie, the boy and his sister appear on their doorstep, offering a bundt cake. Pauline politely rejects it, and as she's about to close the door, the boy asks where her daughter is. Pauline lies and tells him Maddy is not home. It is also revealed that the father of the boy is violent and their relationship is strained.\r\nLater, the boy writes his number on his window for Maddy and soon they begin communicating through text. He introduces himself as Olly, and they text for a while, getting to know each other and eventually growing very fond of each other.\r\nKnowing her mother won't approve, Maddy convinces Carla to secretly let Olly visit her inside the house, though Carla makes them promise to stay on different sides of the room from each other. She later invites Olly over for the Fourth of July, since her mother is working that day. Maddy and Olly share a passionate kiss as fireworks go off outside.\r\nThe next day, Maddy notices Olly fighting with his father outside. When his father shoves him to the ground, Maddy, to the shock of her mother, rushes outside to comfort Olly. Her mother rushes her back inside. Maddy briefly falls ill from the minute she spent outside. Pauline deduces that Maddy and Olly have been seeing each other, and forbids their relationship. She later terminates Carla for betraying her trust.\r\nMaddy decides that it's time to take matters into her own hands. With a credit card she'd previously opened online, Maddy buys two plane tickets to Hawaii, and convinces Olly to travel there with her. In Hawaii, they share a romantic and life-changing experience together.\r\nDuring the trip, Maddy passes out and Olly rushes her to the hospital. She wakes up back in her bed at home. She breaks off contact with Olly due to the fact that she doesn't want to make another mistake over love again, and is therefore unable to say goodbye when his mother finally decides to leave his father, and Olly, his mother and sister leave back to New York, where they are from.\r\nA doctor from the hospital in Hawaii calls Maddy to give a following update and tells Maddy that she does not have something as severe as SCID. Maddy scours her mother's records, and cannot find anything that indicates that she's ever been diagnosed with the disorder. She realizes that her mother has been lying to her for her whole life, and runs away from home.\r\nMaddy stays with Carla and Rosa. A doctor confirms that she's never had SCID, just an underdeveloped immune system from under-exposure due to living in filtered air her whole life. Her mother later tells her that, after Maddy's father and brother died in a car crash, Maddy was all she had left and she wanted to protect her and keep her safe.\r\nMaddy takes a plane to meet Olly. She apologizes for not saying goodbye, and they start their relationship anew."
        ],
        [
         "17241",
         "2017",
         "Alien: Covenant",
         "American",
         "Ridley Scott",
         "Ridley Scott (director); Michael Green, Jack Paglen (screenplay); Michael Fassbender, Katherine Waterston, Demián Bichir, Billy Crudup, Danny McBride, Jussie Smollett, Amy Seimetz, Carmen Ejogo, Callie Hernandez, Alex England, James Franco",
         "sci-fi, horror",
         "https://en.wikipedia.org/wiki/Alien:_Covenant",
         "In a prologue, business magnate Peter Weyland speaks with his newly activated android, who chooses the name \"David\" after observing Michelangelo’s statue of David. Weyland tells David that one day they will search for mankind's creator together. David comments on his own unlimited lifespan compared to his creator's limited one, which unsettles Weyland.\r\nIn 2104, 11 years after the Prometheus expedition, the colonization ship Covenant is bound for remote planet Origae-6, with two thousand colonists in stasis and 1,140 human embryos aboard. The ship is monitored by Walter, a newer android model that physically resembles David. A stellar burst damages the ship, killing 47 colonists. Walter orders the ship's computer to wake the crew of 14, which includes several married couples. The ship's captain, Jake Branson, dies when his stasis pod malfunctions. While repairing the ship, the crew picks up a radio transmission of a human voice from a nearby (two weeks’ travel) planet, which appears eminently more habitable than Origae-6 (still 7 years away). Despite the protests of Daniels, Branson’s widow, that this new \"perfect\" planet is too good to be true, newly-promoted captain Oram decides that they are going to divert and check the new planet.\r\nWith pilot Tennessee maintaining Covenant in orbit, his wife Maggie flies a small lander to the Earth-like planet's surface, where an expedition team tracks the transmission's signal to a crashed alien ship. Crew members Ledward and Hallett are infected by spores from a black fungus-like organism. Oram's wife Karine helps the increasingly ill Ledward back to the lander where Maggie quarantines them inside the med-bay. A small, pale, alien neomorph bursts from Ledward's back, killing him, and then kills Karine. Maggie attempts to kill the creature with a shotgun, but triggers an explosion which kills her and destroys the lander. Nearby, another neomorph bursts from Hallett's mouth, killing him as well.\r\nThe neomorphs attack the remaining crew and kills Ankor. The crew manages to kill a neomorph before David, who survived the Prometheus mission, scares away the other, and leads the crew to a temple in a city full of dead humanoids. David tells them that upon his and fellow Prometheus survivor Elizabeth Shaw's arrival at the planet, their ship released a black liquid bio-weapon which annihilated the native population and that Shaw died when the ship crashed in the ensuing chaos. The crew members attempt to contact the Covenant but are prevented by fierce storms. When a neomorph infiltrates the structure and kills Rosenthal, David tries to communicate with the creature, and is horrified when Oram kills it. Oram questions David, who reveals that the aliens are a result of his experimenting with the black liquid in an attempt to create a new species. He manipulates Oram into being attacked by a facehugger alien. An alien xenomorph later erupts from Oram's chest, killing him.\r\nAs the others search for Oram and Rosenthal, Walter finds Shaw's dissected corpse, used by David as material for his evolving creature designs. David explains that he believes humans are a dying species and should not be allowed to colonize the galaxy. When Walter disagrees, David disables him, and threatens Daniels. Walter recovers (being a superior model capable of self-repair) and fights with David while Daniels escapes. A facehugger attacks security chief Lope, but he is later rescued by crew member Cole. The now fully grown Xenomorph kills Cole, while Lope escapes and meets up with Daniels. Tennessee arrives in another lander to extract Daniels, Lope, and Walter, who claims David has \"expired\". They successfully kill the attacking Xenomorph and return to the Covenant.\r\nThe next morning, Daniels and Tennessee find out that another Xenomorph burst from Lope's chest, killing him, and is loose on the Covenant. It matures, and kills crew members Ricks and his wife Upworth. Remaining crew members Tennessee and Daniels lure the creature into the Covenant's terraforming bay and flush it into space.\r\nThe Covenant resumes its trip to Origae-6. As Walter helps Daniels into stasis, she realizes that he is in fact David, but is unable to escape her pod before falling asleep. David regurgitates two facehugger embryos and places them in cold storage alongside the human embryos. He then poses as Walter to record a log stating that all crewmembers except Daniels and Tennessee were killed by the neutrino blast at the beginning of the film and that the ship is still on course for Origae-6."
        ],
        [
         "17240",
         "2017",
         "Paris Can Wait",
         "American",
         "Eleanor Coppola",
         "Eleanor Coppola (director/screenplay); Diane Lane, Alec Baldwin, Arnaud Viard",
         "comedy, romance",
         "https://en.wikipedia.org/wiki/Paris_Can_Wait",
         "Anne (Diane Lane) is in Cannes with her husband Michael (Alec Baldwin), a prominent movie producer. As the festival ends she learns that the vacation she and her husband were supposed to go on in Paris will be slightly delayed as they need to go to Budapest first. They plan to fly to Paris, but the pilot suggests Anne not fly due to an ear infection. Michael's producing partner Jacques (Arnaud Viard) offers to drive Anne to Paris himself.\r\nWhat is supposed to be a short car ride quickly devolves into a pleasant leisurely trip as Jacques, a French foodie, can't resist taking any opportunity he can to stop every hour or so to sample new food. He is also openly flirtatious with Anne but she begins to question his intentions when he repeatedly uses her credit card to foot the bill for the gourmet meals they are sampling. They visit a church where Anne grieves the baby she lost, and tells Jacques she wears her locket necklace in his honor. They share a romantic dinner together where Jacques admires Anne's photography, and asks why she doesn't share it with her husband.\r\nLater, on the road, Jacques confides that only he knows his brother's death was a suicide, and he carries that burden so his nephew doesn't have to know. They finally reach the place where Anne is staying and almost kiss, but the elevator doors close in on them. Anne sees Jacques has driven away, but he returns to kiss her passionately and ask her to rendezvous with him later in San Francisco.\r\nDays later, she receives a package from Jacques with chocolate roses and the money she had lent him on the trip. It includes a note that reminds her of the restaurant they will be meeting at, and she smiles at the camera suggestively."
        ],
        [
         "17239",
         "2017",
         "The Wall",
         "American",
         "Doug Liman",
         "Doug Liman (director); Dwain Worrell (screenplay); Aaron Taylor-Johnson, John Cena",
         "drama, thriller",
         "https://en.wikipedia.org/wiki/The_Wall_(2017_film)",
         "During the Iraq War, U.S. Army Staff Sergeant Shane Matthews (John Cena) is a sniper who is sent to investigate a pipeline construction site in the desert of the country, with his spotter, Sergeant Allen Isaac (Aaron Taylor-Johnson).\r\nThe pair patiently wait 22 hours on overwatch before determining that the site is clear. Matthews proceeds to investigate the site, but is shot by an Iraqi sniper. Isaac tries to rescue the dying Matthews, but he is also wounded in the right knee and has his radio damaged and his water bottle destroyed in the process.\r\nAlone, Isaac takes cover behind an unsteady wall and tends to his wounds. The sniper has a radio tuned into the American channel, and uses it to communicate with Isaac under the pretense of being a high ranking allied soldier at another site. The deception allows the sniper to get other useful information from Isaac. Throughout their various one-sided attempts at conversation, we learn that the sniper does not claim to the mythical Juba mentioned earlier in the film, a nom de guerre for various Al Qaeda snipers notorious for filming their attacks on American soldiers.\r\nIsaac's attempts to call headquarters for help are stymied by the loss of his radio antennae. He attempts to repair this item with one from a dead contractor's radio, only to discern that the sniper had used the earlier response team as a ruse to call for help and lure another response force into his jaws.\r\nMatthews regains consciousness and subtly gets Isaac's attention that he's still alive. Matthews slowly crawls towards his rifle in the midst of the dusty wind along with Isaac distracting Juba with small talk. Matthews believes that the sniper is hiding at the top of a rubble nearby and fires in that direction. The dusty wind settles quickly. The sniper sees Matthews and fires, injuring Matthews in the left shoulder as he crawled towards the wall, but a second shot kills him.\r\nIsaac hears the rescue helicopters coming, so he pushes down the wall and uses Matthews' rifle to try and kill Juba, or at least flush him out so the rescue chopper can see the trap. Juba fires at Issac twice and misses. Issac now has the snipers location and fires his only round. Issac stands up and waits for Juba's next shot, but it never comes. The helicopters land and the rescue team picks up Isaac and Matthews. Once the helicopters dust off, the sniper successfully shoots down both in rapid succession. He is then heard over the radio, calling for another rescue to set a new trap."
        ]
       ],
       "shape": {
        "columns": 8,
        "rows": 5
       }
      },
      "text/html": [
       "<div>\n",
       "<style scoped>\n",
       "    .dataframe tbody tr th:only-of-type {\n",
       "        vertical-align: middle;\n",
       "    }\n",
       "\n",
       "    .dataframe tbody tr th {\n",
       "        vertical-align: top;\n",
       "    }\n",
       "\n",
       "    .dataframe thead th {\n",
       "        text-align: right;\n",
       "    }\n",
       "</style>\n",
       "<table border=\"1\" class=\"dataframe\">\n",
       "  <thead>\n",
       "    <tr style=\"text-align: right;\">\n",
       "      <th></th>\n",
       "      <th>Release Year</th>\n",
       "      <th>Title</th>\n",
       "      <th>Origin/Ethnicity</th>\n",
       "      <th>Director</th>\n",
       "      <th>Cast</th>\n",
       "      <th>Genre</th>\n",
       "      <th>Wiki Page</th>\n",
       "      <th>Plot</th>\n",
       "    </tr>\n",
       "  </thead>\n",
       "  <tbody>\n",
       "    <tr>\n",
       "      <th>17376</th>\n",
       "      <td>2017</td>\n",
       "      <td>Phantom Thread</td>\n",
       "      <td>American</td>\n",
       "      <td>Paul Thomas Anderson</td>\n",
       "      <td>Paul Thomas Anderson (director/screenplay); Daniel Day-Lewis, Lesley Manville, Richard Graham, Vicky Krieps</td>\n",
       "      <td>drama</td>\n",
       "      <td>https://en.wikipedia.org/wiki/Phantom_Thread</td>\n",
       "      <td>In 1954 London, renowned fashion designer Reynolds Woodcock creates dresses for members of high society. His charisma and genius are matched by his obsessive, controlling and sometimes abusive personality. Cyril, his sister, manages the day-to-day operations of his fashion house and has significant influence over his life. Reynolds is haunted by the death of their mother, and stitches hidden messages into the linings of the dresses he makes.\\r\\nAfter designing a new gown for a revered client, Reynolds visits a restaurant in the countryside and becomes interested in a waitress, Alma. He asks her on a date, and she accepts. Their relationship develops, and she moves in with him, becoming his assistant, muse and lover. Cyril initially distrusts Alma but comes to respect her willfulness and determination.\\r\\nAt first, Alma enjoys being a part of Reynolds' work, but he proves aloof and hard to please, and they bicker. When Alma tries to surprise him with a romantic dinner, Reynolds lash...</td>\n",
       "    </tr>\n",
       "    <tr>\n",
       "      <th>17243</th>\n",
       "      <td>2017</td>\n",
       "      <td>Everything, Everything</td>\n",
       "      <td>American</td>\n",
       "      <td>Stella Meghie</td>\n",
       "      <td>Stella Meghie (director); J. Mills Goodloe (screenplay); Amandla Stenberg, Nick Robinson, Anika Noni Rose, Ana de la Reguera, Danube Hermosillo</td>\n",
       "      <td>romance, drama</td>\n",
       "      <td>https://en.wikipedia.org/wiki/Everything,_Everything_(film)</td>\n",
       "      <td>Eighteen-year-old Maddy suffers from SCID, an immuno-deficiency disease that prevents her from leaving her home and interacting with others. Her mother, Pauline Whittier, takes care of her with the help of her nurse Carla, who has taken care of Madeline for 15 years. Only Pauline, Carla and Carla's daughter, Rosa, are allowed in the home. Maddy yearns to see the world, particularly the ocean.\\r\\nOne day, a new family moves next door, and their son, who is Maddy's age, catches her eye. They share a look as Maddy watches through the window. Later that night, while Pauline and Maddy are watching a movie, the boy and his sister appear on their doorstep, offering a bundt cake. Pauline politely rejects it, and as she's about to close the door, the boy asks where her daughter is. Pauline lies and tells him Maddy is not home. It is also revealed that the father of the boy is violent and their relationship is strained.\\r\\nLater, the boy writes his number on his window for Maddy and soon the...</td>\n",
       "    </tr>\n",
       "    <tr>\n",
       "      <th>17241</th>\n",
       "      <td>2017</td>\n",
       "      <td>Alien: Covenant</td>\n",
       "      <td>American</td>\n",
       "      <td>Ridley Scott</td>\n",
       "      <td>Ridley Scott (director); Michael Green, Jack Paglen (screenplay); Michael Fassbender, Katherine Waterston, Demián Bichir, Billy Crudup, Danny McBride, Jussie Smollett, Amy Seimetz, Carmen Ejogo, Callie Hernandez, Alex England, James Franco</td>\n",
       "      <td>sci-fi, horror</td>\n",
       "      <td>https://en.wikipedia.org/wiki/Alien:_Covenant</td>\n",
       "      <td>In a prologue, business magnate Peter Weyland speaks with his newly activated android, who chooses the name \"David\" after observing Michelangelo’s statue of David. Weyland tells David that one day they will search for mankind's creator together. David comments on his own unlimited lifespan compared to his creator's limited one, which unsettles Weyland.\\r\\nIn 2104, 11 years after the Prometheus expedition, the colonization ship Covenant is bound for remote planet Origae-6, with two thousand colonists in stasis and 1,140 human embryos aboard. The ship is monitored by Walter, a newer android model that physically resembles David. A stellar burst damages the ship, killing 47 colonists. Walter orders the ship's computer to wake the crew of 14, which includes several married couples. The ship's captain, Jake Branson, dies when his stasis pod malfunctions. While repairing the ship, the crew picks up a radio transmission of a human voice from a nearby (two weeks’ travel) planet, which appe...</td>\n",
       "    </tr>\n",
       "    <tr>\n",
       "      <th>17240</th>\n",
       "      <td>2017</td>\n",
       "      <td>Paris Can Wait</td>\n",
       "      <td>American</td>\n",
       "      <td>Eleanor Coppola</td>\n",
       "      <td>Eleanor Coppola (director/screenplay); Diane Lane, Alec Baldwin, Arnaud Viard</td>\n",
       "      <td>comedy, romance</td>\n",
       "      <td>https://en.wikipedia.org/wiki/Paris_Can_Wait</td>\n",
       "      <td>Anne (Diane Lane) is in Cannes with her husband Michael (Alec Baldwin), a prominent movie producer. As the festival ends she learns that the vacation she and her husband were supposed to go on in Paris will be slightly delayed as they need to go to Budapest first. They plan to fly to Paris, but the pilot suggests Anne not fly due to an ear infection. Michael's producing partner Jacques (Arnaud Viard) offers to drive Anne to Paris himself.\\r\\nWhat is supposed to be a short car ride quickly devolves into a pleasant leisurely trip as Jacques, a French foodie, can't resist taking any opportunity he can to stop every hour or so to sample new food. He is also openly flirtatious with Anne but she begins to question his intentions when he repeatedly uses her credit card to foot the bill for the gourmet meals they are sampling. They visit a church where Anne grieves the baby she lost, and tells Jacques she wears her locket necklace in his honor. They share a romantic dinner together where J...</td>\n",
       "    </tr>\n",
       "    <tr>\n",
       "      <th>17239</th>\n",
       "      <td>2017</td>\n",
       "      <td>The Wall</td>\n",
       "      <td>American</td>\n",
       "      <td>Doug Liman</td>\n",
       "      <td>Doug Liman (director); Dwain Worrell (screenplay); Aaron Taylor-Johnson, John Cena</td>\n",
       "      <td>drama, thriller</td>\n",
       "      <td>https://en.wikipedia.org/wiki/The_Wall_(2017_film)</td>\n",
       "      <td>During the Iraq War, U.S. Army Staff Sergeant Shane Matthews (John Cena) is a sniper who is sent to investigate a pipeline construction site in the desert of the country, with his spotter, Sergeant Allen Isaac (Aaron Taylor-Johnson).\\r\\nThe pair patiently wait 22 hours on overwatch before determining that the site is clear. Matthews proceeds to investigate the site, but is shot by an Iraqi sniper. Isaac tries to rescue the dying Matthews, but he is also wounded in the right knee and has his radio damaged and his water bottle destroyed in the process.\\r\\nAlone, Isaac takes cover behind an unsteady wall and tends to his wounds. The sniper has a radio tuned into the American channel, and uses it to communicate with Isaac under the pretense of being a high ranking allied soldier at another site. The deception allows the sniper to get other useful information from Isaac. Throughout their various one-sided attempts at conversation, we learn that the sniper does not claim to the mythical ...</td>\n",
       "    </tr>\n",
       "  </tbody>\n",
       "</table>\n",
       "</div>"
      ],
      "text/plain": [
       "       Release Year                   Title Origin/Ethnicity              Director                                                                                                                                                                                                                                             Cast            Genre                                                    Wiki Page  \\\n",
       "17376          2017          Phantom Thread         American  Paul Thomas Anderson                                                                                                                                      Paul Thomas Anderson (director/screenplay); Daniel Day-Lewis, Lesley Manville, Richard Graham, Vicky Krieps            drama                 https://en.wikipedia.org/wiki/Phantom_Thread   \n",
       "17243          2017  Everything, Everything         American         Stella Meghie                                                                                                  Stella Meghie (director); J. Mills Goodloe (screenplay); Amandla Stenberg, Nick Robinson, Anika Noni Rose, Ana de la Reguera, Danube Hermosillo   romance, drama  https://en.wikipedia.org/wiki/Everything,_Everything_(film)   \n",
       "17241          2017         Alien: Covenant         American          Ridley Scott  Ridley Scott (director); Michael Green, Jack Paglen (screenplay); Michael Fassbender, Katherine Waterston, Demián Bichir, Billy Crudup, Danny McBride, Jussie Smollett, Amy Seimetz, Carmen Ejogo, Callie Hernandez, Alex England, James Franco   sci-fi, horror                https://en.wikipedia.org/wiki/Alien:_Covenant   \n",
       "17240          2017          Paris Can Wait         American       Eleanor Coppola                                                                                                                                                                    Eleanor Coppola (director/screenplay); Diane Lane, Alec Baldwin, Arnaud Viard  comedy, romance                 https://en.wikipedia.org/wiki/Paris_Can_Wait   \n",
       "17239          2017                The Wall         American            Doug Liman                                                                                                                                                               Doug Liman (director); Dwain Worrell (screenplay); Aaron Taylor-Johnson, John Cena  drama, thriller           https://en.wikipedia.org/wiki/The_Wall_(2017_film)   \n",
       "\n",
       "                                                                                                                                                                                                                                                                                                                                                                                                                                                                                                                                                                                                                                                                                                                                                                                                                                                                                                                                                                                                                                          Plot  \n",
       "17376  In 1954 London, renowned fashion designer Reynolds Woodcock creates dresses for members of high society. His charisma and genius are matched by his obsessive, controlling and sometimes abusive personality. Cyril, his sister, manages the day-to-day operations of his fashion house and has significant influence over his life. Reynolds is haunted by the death of their mother, and stitches hidden messages into the linings of the dresses he makes.\\r\\nAfter designing a new gown for a revered client, Reynolds visits a restaurant in the countryside and becomes interested in a waitress, Alma. He asks her on a date, and she accepts. Their relationship develops, and she moves in with him, becoming his assistant, muse and lover. Cyril initially distrusts Alma but comes to respect her willfulness and determination.\\r\\nAt first, Alma enjoys being a part of Reynolds' work, but he proves aloof and hard to please, and they bicker. When Alma tries to surprise him with a romantic dinner, Reynolds lash...  \n",
       "17243  Eighteen-year-old Maddy suffers from SCID, an immuno-deficiency disease that prevents her from leaving her home and interacting with others. Her mother, Pauline Whittier, takes care of her with the help of her nurse Carla, who has taken care of Madeline for 15 years. Only Pauline, Carla and Carla's daughter, Rosa, are allowed in the home. Maddy yearns to see the world, particularly the ocean.\\r\\nOne day, a new family moves next door, and their son, who is Maddy's age, catches her eye. They share a look as Maddy watches through the window. Later that night, while Pauline and Maddy are watching a movie, the boy and his sister appear on their doorstep, offering a bundt cake. Pauline politely rejects it, and as she's about to close the door, the boy asks where her daughter is. Pauline lies and tells him Maddy is not home. It is also revealed that the father of the boy is violent and their relationship is strained.\\r\\nLater, the boy writes his number on his window for Maddy and soon the...  \n",
       "17241  In a prologue, business magnate Peter Weyland speaks with his newly activated android, who chooses the name \"David\" after observing Michelangelo’s statue of David. Weyland tells David that one day they will search for mankind's creator together. David comments on his own unlimited lifespan compared to his creator's limited one, which unsettles Weyland.\\r\\nIn 2104, 11 years after the Prometheus expedition, the colonization ship Covenant is bound for remote planet Origae-6, with two thousand colonists in stasis and 1,140 human embryos aboard. The ship is monitored by Walter, a newer android model that physically resembles David. A stellar burst damages the ship, killing 47 colonists. Walter orders the ship's computer to wake the crew of 14, which includes several married couples. The ship's captain, Jake Branson, dies when his stasis pod malfunctions. While repairing the ship, the crew picks up a radio transmission of a human voice from a nearby (two weeks’ travel) planet, which appe...  \n",
       "17240  Anne (Diane Lane) is in Cannes with her husband Michael (Alec Baldwin), a prominent movie producer. As the festival ends she learns that the vacation she and her husband were supposed to go on in Paris will be slightly delayed as they need to go to Budapest first. They plan to fly to Paris, but the pilot suggests Anne not fly due to an ear infection. Michael's producing partner Jacques (Arnaud Viard) offers to drive Anne to Paris himself.\\r\\nWhat is supposed to be a short car ride quickly devolves into a pleasant leisurely trip as Jacques, a French foodie, can't resist taking any opportunity he can to stop every hour or so to sample new food. He is also openly flirtatious with Anne but she begins to question his intentions when he repeatedly uses her credit card to foot the bill for the gourmet meals they are sampling. They visit a church where Anne grieves the baby she lost, and tells Jacques she wears her locket necklace in his honor. They share a romantic dinner together where J...  \n",
       "17239  During the Iraq War, U.S. Army Staff Sergeant Shane Matthews (John Cena) is a sniper who is sent to investigate a pipeline construction site in the desert of the country, with his spotter, Sergeant Allen Isaac (Aaron Taylor-Johnson).\\r\\nThe pair patiently wait 22 hours on overwatch before determining that the site is clear. Matthews proceeds to investigate the site, but is shot by an Iraqi sniper. Isaac tries to rescue the dying Matthews, but he is also wounded in the right knee and has his radio damaged and his water bottle destroyed in the process.\\r\\nAlone, Isaac takes cover behind an unsteady wall and tends to his wounds. The sniper has a radio tuned into the American channel, and uses it to communicate with Isaac under the pretense of being a high ranking allied soldier at another site. The deception allows the sniper to get other useful information from Isaac. Throughout their various one-sided attempts at conversation, we learn that the sniper does not claim to the mythical ...  "
      ]
     },
     "execution_count": 50,
     "metadata": {},
     "output_type": "execute_result"
    }
   ],
   "source": [
    "recent_american_movie_plots = american_movie_plots[american_movie_plots['Release Year'] >= 1970].sort_values(by='Release Year', ascending=False)\n",
    "recent_american_movie_plots.head()"
   ]
  },
  {
   "cell_type": "code",
   "execution_count": 51,
   "metadata": {},
   "outputs": [
    {
     "data": {
      "text/plain": [
       "Release Year        5000\n",
       "Title               5000\n",
       "Origin/Ethnicity    5000\n",
       "Director            5000\n",
       "Cast                4941\n",
       "Genre               5000\n",
       "Wiki Page           5000\n",
       "Plot                5000\n",
       "dtype: int64"
      ]
     },
     "execution_count": 51,
     "metadata": {},
     "output_type": "execute_result"
    }
   ],
   "source": [
    "recent_american_movies_sample = recent_american_movie_plots[:5000]\n",
    "recent_american_movies_sample.count()\n"
   ]
  },
  {
   "cell_type": "code",
   "execution_count": 52,
   "metadata": {},
   "outputs": [],
   "source": [
    "movie_plots = recent_american_movie_plots\n",
    "movie_plots.to_csv(OUTPUT_PATH)"
   ]
  },
  {
   "cell_type": "markdown",
   "metadata": {},
   "source": [
    "## create embedding function"
   ]
  },
  {
   "cell_type": "markdown",
   "metadata": {},
   "source": [
    "### retry decorator"
   ]
  },
  {
   "cell_type": "code",
   "execution_count": 53,
   "metadata": {},
   "outputs": [],
   "source": [
    "from random import randint\n",
    "from ollama import EmbedResponse\n",
    "import time\n",
    "\n",
    "def retry(wait:int=2, max_retries:int=5):\n",
    "    def decorator(func):\n",
    "        def wrapper(*args, **kwargs):\n",
    "            attempts = 0\n",
    "            while True:\n",
    "                try:\n",
    "                    result = func(*args, **kwargs)\n",
    "                    return result\n",
    "                except:\n",
    "                    print(f'function call failed, attempts: {attempts}/{max_retries}')\n",
    "                    if attempts >= max_retries:\n",
    "                        print('giving up')\n",
    "                        break\n",
    "                    attempts +=1\n",
    "                    print(f'waiting {wait} seconds...')\n",
    "                    time.sleep(wait)\n",
    "        return wrapper\n",
    "    return decorator\n",
    "\n",
    "@retry(wait=.5)\n",
    "def test_retry(attempts:int=0, max_retries=5):\n",
    "    if randint(0, 1):\n",
    "        raise Exception\n",
    "\n",
    "test_retry()\n"
   ]
  },
  {
   "cell_type": "markdown",
   "metadata": {},
   "source": [
    "### get_embedding"
   ]
  },
  {
   "cell_type": "code",
   "execution_count": 54,
   "metadata": {},
   "outputs": [
    {
     "data": {
      "text/plain": [
       "[0.049320336,\n",
       " -0.006095786,\n",
       " 0.005403328,\n",
       " 0.05819033,\n",
       " 0.016559888,\n",
       " -0.049261045,\n",
       " -0.022237664,\n",
       " 0.0150083145,\n",
       " 0.027820827,\n",
       " -0.016057922]"
      ]
     },
     "execution_count": 54,
     "metadata": {},
     "output_type": "execute_result"
    }
   ],
   "source": [
    "EMBEDDING_MODEL = 'mxbai-embed-large:latest'\n",
    "\n",
    "@retry(wait=2, max_retries=5)\n",
    "def get_embedding(text:str, model:str=EMBEDDING_MODEL) -> EmbedResponse:\n",
    "    text = text.replace('\\n', ' ')\n",
    "    embedding = embed_client.embed(input=text, model=model)\n",
    "    return embedding.embeddings[0]\n",
    "\n",
    "get_embedding('this is a story about five friends')[:10]"
   ]
  },
  {
   "cell_type": "markdown",
   "metadata": {},
   "source": [
    "## cache management"
   ]
  },
  {
   "cell_type": "code",
   "execution_count": 55,
   "metadata": {},
   "outputs": [],
   "source": [
    "from pathlib import Path\n",
    "import pickle\n",
    "\n",
    "\n",
    "CACHE_PATH = f'{DATA_PATH}/cache.pkl'\n",
    "\n",
    "\n",
    "def reset_cache(cache_path:str=CACHE_PATH):\n",
    "    print(f'deleting {cache_path}')\n",
    "    Path(cache_path).unlink(missing_ok=True)\n",
    "\n",
    "\n",
    "def save_cache(cache:dict, cache_path:str=CACHE_PATH, reset:bool=False):\n",
    "    if reset:\n",
    "        reset_cache(cache_path)\n",
    "    \n",
    "    print(f'saving cache to {cache_path}')\n",
    "    with open(cache_path, 'wb') as fp:\n",
    "        pickle.dump(cache, fp)\n",
    "\n",
    "\n",
    "def get_cache(cache_path:str=CACHE_PATH, reset:bool=False) -> dict:\n",
    "    if reset:\n",
    "        reset_cache(cache_path)\n",
    "    try:\n",
    "        print(f'loading {cache_path}...')\n",
    "        cache = pd.read_pickle(cache_path)\n",
    "    except FileNotFoundError:\n",
    "        print('failed to load')\n",
    "        cache = {}\n",
    "        save_cache(cache)\n",
    "    return cache\n",
    "\n"
   ]
  },
  {
   "cell_type": "code",
   "execution_count": 58,
   "metadata": {},
   "outputs": [
    {
     "name": "stdout",
     "output_type": "stream",
     "text": [
      "deleting data/cache.pkl\n",
      "loading data/cache.pkl...\n",
      "failed to load\n",
      "saving cache to data/cache.pkl\n",
      "saving cache to data/cache.pkl\n",
      "saving cache to data/cache.pkl\n",
      "Phantom Thread\n",
      "Stargate\n"
     ]
    }
   ],
   "source": [
    "CACHE = get_cache(reset=True)\n",
    "\n",
    "def embedding_from_text(text:str, model:str=EMBEDDING_MODEL, cache:dict=CACHE, **extras) -> list[float]:\n",
    "    key = (text, model)\n",
    "    if cache.get(key) is None:\n",
    "        new_value = {}\n",
    "        \n",
    "        for k, v in extras.items():\n",
    "            new_value[k] = v\n",
    "            \n",
    "        new_value['embedding'] = get_embedding(text, model)\n",
    "        cache[key] = new_value    \n",
    "        save_cache(cache)\n",
    "    return cache[key]\n",
    "\n",
    "\n",
    "def embedding_from_title(title:str, movies:pd.DataFrame, model=EMBEDDING_MODEL, cache:dict=CACHE):\n",
    "    try:\n",
    "        # result = movies.loc[movies['Title'].str.lower() == title.lower(), 'Plot']\n",
    "        movie = movies.loc[movies['Title'].str.lower() == title.lower()]\n",
    "        # title = result['Title'].squeeze()\n",
    "        title = movie['Title'].iloc[0]\n",
    "        plot = movie['Plot'].iloc[0]\n",
    "        return embedding_from_text(plot, title=title)\n",
    "    except (IndexError, KeyError):  # Catch potential errors\n",
    "        print(f'movie {title} not found')\n",
    "        return None\n",
    "\n",
    "\n",
    "\n",
    "# pd.options.display.width = 200\n",
    "pd.options.display.width = 1000\n",
    "# pd.options.display.max_colwidth # 50\n",
    "pd.options.display.max_colwidth = 1000\n",
    "\n",
    "embedding_from_title('phantom thread', movie_plots)\n",
    "embedding_from_title('stargate', movie_plots)\n",
    "\n",
    "for k, v in CACHE.items():\n",
    "    print(v['title'])\n",
    "\n"
   ]
  }
 ],
 "metadata": {
  "kernelspec": {
   "display_name": ".venv",
   "language": "python",
   "name": "python3"
  },
  "language_info": {
   "codemirror_mode": {
    "name": "ipython",
    "version": 3
   },
   "file_extension": ".py",
   "mimetype": "text/x-python",
   "name": "python",
   "nbconvert_exporter": "python",
   "pygments_lexer": "ipython3",
   "version": "3.12.4"
  }
 },
 "nbformat": 4,
 "nbformat_minor": 2
}
