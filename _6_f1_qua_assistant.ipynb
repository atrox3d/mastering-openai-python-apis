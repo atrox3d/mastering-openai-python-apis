{
 "cells": [
  {
   "cell_type": "code",
   "execution_count": 3,
   "metadata": {},
   "outputs": [
    {
     "name": "stdout",
     "output_type": "stream",
     "text": [
      "loading data/cache.pkl...\n",
      "loading data/cache.pkl...\n"
     ]
    }
   ],
   "source": [
    "from typing import Dict, List, Optional\n",
    "from io import StringIO\n",
    "import csv\n",
    "import requests\n",
    "import os\n",
    "import itertools\n",
    "import tiktoken\n",
    "import openai\n",
    "import pandas as pd\n",
    "from dotenv import load_dotenv\n",
    "import ollama\n",
    "\n",
    "# from utilities import num_token_from_messages, memoize_sqlite\n",
    "\n",
    "from helpers.notebook.embeddings import (\n",
    "    get_embedding,\n",
    "    embedding_from_text,\n",
    "    distances_from_embeddings,\n",
    "    indices_of_nearest_neighbors_from_distances\n",
    ")\n",
    "\n",
    "from helpers.notebook.defaults import (\n",
    "    DATA_PATH,\n",
    "    INPUT_FILE,\n",
    "    OUTPUT_FILE,\n",
    "    INPUT_PATH,\n",
    "    EMBEDDING_MODEL,\n",
    ")\n"
   ]
  },
  {
   "cell_type": "code",
   "execution_count": 4,
   "metadata": {},
   "outputs": [],
   "source": [
    "load_dotenv()\n",
    "client = openai.OpenAI()\n",
    "embed_client = ollama.Client()\n"
   ]
  },
  {
   "cell_type": "code",
   "execution_count": 5,
   "metadata": {},
   "outputs": [],
   "source": [
    "MAX_CONTEXT_WINDOW = 4096\n",
    "MINIMUM_RESPONSE_SPACE = 1000\n",
    "MAX_PROMPT_SIZE = MAX_CONTEXT_WINDOW - MINIMUM_RESPONSE_SPACE"
   ]
  },
  {
   "cell_type": "code",
   "execution_count": 6,
   "metadata": {},
   "outputs": [],
   "source": [
    "from pathlib import Path\n",
    "\n",
    "\n",
    "def load_csv(filename:str, path:str=DATA_PATH):\n",
    "    return pd.read_csv(\n",
    "        Path(path, filename)\n",
    "    )"
   ]
  },
  {
   "cell_type": "code",
   "execution_count": 7,
   "metadata": {},
   "outputs": [],
   "source": [
    "def wikipedia_api_fetch(\n",
    "        title:str,\n",
    "        field:str\n",
    ") -> str:\n",
    "    base_url = 'https://en.wikipedia.org/w/api.php'\n",
    "    \n",
    "    params = {\n",
    "        'action': 'query',\n",
    "        'format': 'json',\n",
    "        'prop': 'extracts',\n",
    "        'titles': title,\n",
    "        'explaintext': True\n",
    "    }\n",
    "    \n",
    "    # req = requests.Request('GET', base_url, params=params)\n",
    "    # print(req.prepare().url)\n",
    "    \n",
    "    response = requests.get(base_url, params=params)\n",
    "    data = response.json()\n",
    "    \n",
    "    if 'query' in data and 'pages' in data['query']:\n",
    "        page:dict = list(data['query']['pages'].values())[0]\n",
    "        if field in page:\n",
    "            return page[field]\n",
    "        else:\n",
    "            raise ValueError(f'Could not find {field} for page {page}')\n",
    "    return data\n"
   ]
  },
  {
   "cell_type": "code",
   "execution_count": 11,
   "metadata": {},
   "outputs": [],
   "source": [
    "def build_df_from_wikipedia(df:pd.DataFrame) -> pd.DataFrame:\n",
    "    df['page_content'] = df['Link'].apply(lambda link: wikipedia_api_fetch(link, 'extract'))\n",
    "    df['display_title'] = df['Link'].apply(lambda link: wikipedia_api_fetch(link, 'title'))\n",
    "    \n",
    "    return df"
   ]
  },
  {
   "cell_type": "code",
   "execution_count": 13,
   "metadata": {},
   "outputs": [
    {
     "data": {
      "application/vnd.microsoft.datawrangler.viewer.v0+json": {
       "columns": [
        {
         "name": "index",
         "rawType": "int64",
         "type": "integer"
        },
        {
         "name": "Link",
         "rawType": "object",
         "type": "string"
        },
        {
         "name": "page_content",
         "rawType": "object",
         "type": "string"
        },
        {
         "name": "display_title",
         "rawType": "object",
         "type": "string"
        }
       ],
       "conversionMethod": "pd.DataFrame",
       "ref": "c15b4359-47da-4edc-a8b0-9eda86aa2bbf",
       "rows": [
        [
         "0",
         "2022_Formula_One_World_Championship",
         "The 2022 FIA Formula One World Championship was a motor racing championship for Formula One cars, which was the 73rd running of the Formula One World Championship. It is recognised by the Fédération Internationale de l'Automobile (FIA), the governing body of international motorsport, as the highest class of competition for open-wheel racing cars. The championship was contested over twenty-two Grands Prix, which were held around the world, and ended earlier than in recent years to avoid overlapping with the FIFA World Cup.\nDrivers and teams competed for the titles of World Drivers' Champion and World Constructors' Champion, respectively. The 2022 championship saw the introduction of significant changes to the sport's technical regulations. These changes had been intended to be introduced in 2021, but were delayed until 2022 in response to the COVID-19 pandemic. Max Verstappen, who was the reigning Drivers' Champion, claimed his second title at the Japanese Grand Prix, while his team, Red Bull Racing, achieved their fifth World Constructor Championship, and first since 2013, at the following United States Grand Prix. Defending Constructors' Champions, Mercedes failed to defend their championship and fell a distant third with their only win in São Paulo, having failed to adapt to the new regulations implemented by the FIA.\nThis was the final season for four-time World Champion Sebastian Vettel. Seven-time World Champion Lewis Hamilton endured a difficult season with Mercedes, failing to secure either a pole position or Grand Prix win during the season, the first time either occurrence had happened in his Formula One career since it began in 2007.\n\n\n== Entries ==\nThe following constructors and drivers were under contract to compete in the 2022 World Championship. All teams competed with tyres supplied by Pirelli. Each team was required to enter at least two drivers, one for each of the two mandatory cars.\n\n\n=== Free practice drivers ===\nThroughout the season, each team had to field a driver in one of the first two free practice sessions who had not competed in more than two races, on two occasions, once for each car. The following drivers were entered at selected events to drive in free practice:\n\n\n=== Team changes ===\nHonda initially stated that they would not supply power units beyond 2021. The company had provided power units to Scuderia AlphaTauri (previously called Scuderia Toro Rosso) since 2018 and to Red Bull Racing since 2019. Initially, Red Bull Racing planned to take over Honda's engine programme and manage it in-house, under a new division called Red Bull Powertrains. The decision was made after lobbying the other nine teams to negotiate an engine development freeze until 2025. Red Bull Racing acknowledged that they would have left the championship if the engine development freeze had not been agreed to as they could not develop a brand new engine, and both Red Bull Racing and Renault were unwilling to resume their former partnership. Honda later agreed to continue supplying Red Bull Racing and AlphaTauri for 2023 with engines for this season, which were rebadged to Red Bull Powertrains. In addition to the assembly and maintenance of the engines, Honda continued to provide Red Bull Racing and AlphaTauri with technical and operational oversight during race weekends.\n\n\n=== Driver changes ===\n\nKimi Räikkönen retired following the conclusion of the 2021 championship; Räikkönen won 21 races, and the 2007 World Drivers' Championship across a 19-season Formula career. Räikkönen's seat at Alfa Romeo was filled by fellow countryman Valtteri Bottas, who left Mercedes after 5 seasons. George Russell replaced Bottas, vacating the seat that he had held for the past 3 seasons at Williams. Russell was replaced by former Red Bull Racing driver Alex Albon after competing in the 2021 Deutsche Tourenwagen Masters series.\nZhou Guanyu, who finished third in the 2021 Formula 2 Championship, joined Alfa Romeo, in place of Antonio Giovinazzi, who had been at the team since 2019. Zhou became the first Chinese driver to compete in Formula One.\nNikita Mazepin was originally contracted to compete for Haas, as part of a multi-year contract that started in 2021. Following the Russian invasion of Ukraine and the resultant cancellation of Uralkali's title sponsorship of Haas, his contract was terminated. He was replaced by Kevin Magnussen, who had last competed in 2020 with the same team.\n\n\n==== Mid-season changes ====\nAhead of the Bahrain Grand Prix, Sebastian Vettel tested positive for coronavirus. He was replaced at the event, and the subsequent Saudi Arabian Grand Prix by Aston Martin by reserve driver Nico Hülkenberg, who last raced at the 2020 Eifel Grand Prix, driving for former team Racing Point.\nDuring the Italian Grand Prix weekend, Alex Albon suffered from appendicitis. He was replaced at Williams by the Mercedes reserve driver 2020–21 Formula E and 2019 Formula 2 Champion Nyck de Vries, who made his Formula One race debut.\n\n\n== Calendar ==\nThe 2022 calendar consisted of twenty-two events. The Emilia Romagna, Austrian and São Paulo Grands Prix featured the sprint format.\n\n\n=== Calendar expansion and changes ===\nThe Australian, Canadian, Japanese, and Singapore Grands Prix returned to the calendar after a two-year absence due to the COVID-19 pandemic.\nThe Miami Grand Prix made its debut, with the race taking place at the Miami International Autodrome in Miami Gardens, Florida.\nThe Portuguese, Styrian, and Turkish Grands Prix were not included in the list of 2022 races. These Grands Prix were specifically added to the 2021 calendar in response to the COVID-19 pandemic, to ensure that as many races as possible could be held.\nThe Qatar Grand Prix, which made its debut in the 2021 championship at the Lusail International Circuit, was not present on the 2022 calendar. The Grand Prix returned in 2023 after a one-year hiatus during which the country focused on hosting the FIFA World Cup, and remained in Lusail despite originally being planned to move to a new purpose-built circuit.\nThe Chinese Grand Prix was under contract to feature on the 2022 calendar, but it was not included due to Chinese travel restrictions related to the COVID-19 pandemic.\nThe Russian Grand Prix, which was scheduled to take place on 25 September as the 17th round of the championship, was initially suspended from the calendar in response to the Russian invasion of Ukraine, before being ultimately cancelled. The Grand Prix was due to be replaced, but that plan was later scrapped.\n\n\n== Regulation changes ==\n\n\n=== Race direction ===\nMichael Masi, who had served as race director since the death of Charlie Whiting in 2019, was removed from the role of race director after an inquiry into the 2021 Abu Dhabi Grand Prix. As part of a restructuring of race control, Masi was replaced by former DTM race director Niels Wittich and World Endurance Championship race director Eduardo Freitas. The pair assumed the role on an alternating basis. Herbie Blash, Whiting's former deputy, was appointed as permanent senior advisor to the race director.\nThe FIA also introduced a new virtual race control system, much like the video assistant referee in football, as well as a ban on team communications that lobby race officials. Radio between teams and FIA officials also is no longer broadcast on television in order to protect race officials. Unlapping procedures were reassessed by the Formula One Sporting Advisory Committee following the controversy of the 2021 Abu Dhabi Grand Prix and presented prior to the start of the season.\nPrior to the United States Grand Prix, the FIA abandoned the idea of rotating race directors, leaving Niels Wittich as the sole serving race director for the final four rounds of the championship. The rotation policy was not met with favourable reviews from drivers, as well as being in response to criticism of Eduardo Freitas's performance as race director at the Japanese Grand Prix.\n\n\n=== Technical regulations ===\n\nThe 2022 World Championship saw an overhaul of the technical regulations. These changes had been planned for introduction in 2021, with teams developing their cars throughout 2020. The introduction of the regulations was delayed until the 2022 championship in response to the COVID-19 pandemic. Once the delay was announced, teams were banned from carrying out any development of their 2022 cars during the 2020 calendar year. Prior to the season, the FIA said it anticipated that the car performance deficit between the fastest and slowest teams on the grid would be cut by half when compared to 2021.\nDrivers were consulted on developing the new technical regulations, that were deliberately written to be restrictive so as to prevent teams from developing radical designs that limited the ability of drivers to overtake. The FIA created a specialist Working Group, or committee of engineers, tasked with identifying and closing loopholes in the regulations before their publication. The elimination of loopholes will, in theory, stop one team from having a dominant car, and in turn allow for closer competition throughout the field while improving the aesthetics of the cars. This philosophy was a major aim of the new regulations. Red Bull car designer Adrian Newey noted that the regulation changes were the most significant in Formula One since the 1983 season.\n\n\n==== Aerodynamics and bodywork ====\nThe technical regulations reintroduced the use of ground effects for the first time since venturi tunnels under cars were banned in 1983. This coincides with a simplification of the bodywork, making the underside of the car the primary source of aerodynamic grip. This aims to reduce the turbulent air in the wake of the cars to allow drivers to follow each other more closely whilst still maintaining a similar level of downforce compared to previous years. Further changes to the aerodynamics are aimed at limiting the teams' ability to control airflow around the front wheels and further reduce the cars' aerodynamic wake. This includes the elimination of bargeboards, the complex aerodynamic devices that manipulate airflow around the body of the car. The front wing and endplates have been simplified, reducing the number and complexity of aerodynamic elements. The front wing must also directly connect to the nosecone, unlike pre-2022 designs where the wing could be connected to the nose via supports to create a space under the monocoque, thereby encouraging airflow under the car by way of the wing's larger surface area and the nose's increased height. The rear wings are wider and mounted higher than in previous years, with additional restrictions in place to limit the constructors' ability to use a car's exhaust gases to generate downforce. Figures released by the Working Group revealed that where a 2019-specification car following another car had just 55% of its normal levels of downforce available, a 2022-specification car following another car would have up to 86% of its normal levels of downforce.\nTeams have been further restricted in the number of aerodynamic upgrades they can introduce to the car, both over the course of a race weekend and over the course of the championship. These rules were introduced to further cut the costs of competing. Following the decision to delay the 2021 regulations to 2022, aerodynamic development of the cars was banned from 28 March 2020 to the end of 2020.\nIn 2021, the championship introduced a sliding scale system to regulate aerodynamic testing. Under this system, the least successful teams in the previous year's World Constructors' Championship standings would be given additional time for aerodynamic testing. Conversely, the most successful teams would be given less time to complete testing. The system was trialled in 2021 with the results used to create a more formal, structured and steeper model for the 2022 championship.\n\n\n==== Mid-season aerodynamics directive ====\nThe introduction of ground effect meant that cars that ride high off the ground get less benefit from aerodynamic ground effects, which translates to slower speed on the track. Conversely, cars that run low to the ground gain maximum speed and benefits from this effect, but only up to the point where airflow under the car is interrupted. When ground effect is interrupted, a car experiences an aerodynamic stall, and the car lifts from the track surface. When airflow re-establishes, the car is pulled down again. When this effect occurs repeatedly, it is colloquially known as \"porpoising\". Teams with low riding cars sometimes also experience \"bottoming out\", where tracks with uneven surfaces combined with a low ride height simply means the car's floor will scrape the track surface. Bottoming out and porpoising can both cause significant forces readily felt by drivers; McLaren's Daniel Ricciardo described these as being \"rattled\" or \"shaken\".\nBy June 2022, several drivers had raised concerns about the effects of both of these problems. Haas's Kevin Magnussen had complained of nerve issues, and both of Mercedes's drivers had complained of back pain. As a result, the FIA decided that from the Belgian Grand Prix onwards a technical directive would be introduced to prevent cars from porpoising and bottoming out to an unsafe level following safety and legality concerns in the first half of the season. The FIA's proposal was for a specific addition to Article 3.15.8 of the technical regulations, addressing the flexibility of the plank underneath a car. The changes were initially proposed to come into force at the French Grand Prix but were pushed back in order to give teams enough time to comply with the directive.\n\n\n==== Power units ====\nDiscussions over the 2022 engine regulations began in 2017 and were finalised in May 2018. The proposed regulations involved removing the motor generator unit–heat (MGU-H) to simplify the technology used in the engine whilst raising the maximum rev limit by 3,000 rpm. Further proposals dubbed \"plug-and-play\" would see engine suppliers bound by the regulations to make individual engine components universally compatible, allowing teams to source their components from multiple suppliers. Manufacturers would also be subject to a similar regulation concerning commercially available materials as chassis constructors would be subject to from 2021, with no exclusive or exotic materials permitted. The proposals were designed to simplify the engine technology whilst making the sport more attractive to new entrants. As no new power unit suppliers committed themselves to entering the sport in 2022, the existing suppliers proposed to retain the existing power unit formula in a bid to reduce overall development costs.\nThe quota system of power unit components was continued in 2022, with teams given a limited number of individual components that can be used before incurring a penalty.\n\n\n==== Standardised components ====\nStandardised components were introduced in 2022, with the technical regulations requiring standard components to be in place until 2024. These standardised components include the gearbox and fuel system. Some aerodynamic components—such as the tray that sits at the front of the car floor—will also be standardised so as to restrict teams' ability to develop the area and gain a competitive advantage. Individual parts will now be classified as a way of clarifying the rules surrounding them:\n\n\"Listed parts\" refers to the parts of the car that teams are required to design by themselves, such as the survival cell and most of the aerodynamic components.\n\"Standard parts\" is the name given to the parts of the car that all teams must use, including wheel rims and equipment used in pit stops.\n\"Transferable parts\" are parts that a team can develop and sell on to another team, such as the gearbox and the clutch.\n\"Prescribed parts\" are parts that teams are required to develop according to a prescriptive set of regulations. Prescribed parts include wheel arches and wheel aerodynamics.\n\"Open-source parts\" may be developed collectively by teams and sold on to customers. Steering wheels and the DRS mechanism are listed as open-source parts.\nThe system of categorising parts was introduced to allow for design freedom as the overhaul to the aerodynamic regulations was highly prescriptive.\n\n\n==== Tyres ====\nWheel diameter increased from 13 inches (33 cm) to 18 inches (46 cm). The 18-inch wheels were introduced into the Formula 2 Championship in 2020 to test changes in tyre behaviour. It was originally proposed that the use of tyre warmers—electric blankets designed to keep the tyres at the optimal operating temperature when not in use—would be banned, although this decision was later reversed after opposition from the tyre supplier Pirelli. The temperature of the tyre blankets was reduced. Previously, the front tyres could be heated to 100 °C (212 °F), while the rears were at 80 °C (176 °F). Both dropped to 70 °C (158 °F) from the start of the season. Tyre warmers will instead become a standardised piece of equipment, with all teams required to use the same product with a view to eventually phase them out altogether by 2024. While Pirelli remain the official tyre partner and provider, BBS would partner and supply the rims to all Formula One teams from 2022 as part of a four-year deal.\n\n\n=== Sporting regulations ===\n\n\n==== Sprint points system and events ====\nHaving been first trialled under the name \"sprint qualifying\" in 2021, the format returned also for this championship with the name changed to \"sprint\". The weekend format was unchanged from 2021 and was run at the Emilia Romagna, Austrian, and São Paulo Grands Prix with points now awarded to the top eight finishers rather than the top three finishers as was the case in 2021. Unlike the previous season, the driver who sets the fastest time in qualifying was credited as the official polesitter, with the winner of sprint continuing to have the right to start the Grand Prix from the first place grid spot.\nThe sprint was originally planned to appear at six Grands Prix before it was reduced to three in a compromise with teams, who wanted an increased cost cap for sprint races, to cover the cost of potential car damage.\n\n\n==== Points system for shortened races ====\nFollowing the controversy surrounding the awarding of points at the 2021 Belgian Grand Prix, which was only run behind the safety car, the criteria needed for points to be awarded for uncompleted events was altered. The requirement was changed so that no points were awarded unless a minimum of two laps had been completed under green flag conditions. Additionally, in the event of a race that was suspended and could not be restarted, points would be awarded as follows:\n\nIf less than 25% of the scheduled race distance, points are awarded on a 6–4–3–2–1 basis to the top 5.\nIf 25%–50% of the scheduled race distance is completed, points are awarded on a 13–10–8–6–5–4–3–2–1 basis to the top 9.\nIf 50%–75% of the scheduled race distance is completed, points are awarded on a 19–14–12–10–8–6–4–3–2–1 basis to the top 10.\nIf more than 75% of the scheduled race distance is completed, full points are awarded.\nThe previous criteria had been in place for over 40 years prior to the change, last being altered some time between the 1977 and 1980 seasons.\nAdditionally, the fastest lap point is now awarded only if a minimum of 50% of the scheduled race distance is completed while ending up in the top ten.\n\n\n==== Safety car procedures and protocols ====\nIn light of the controversy surrounding the safety car at the 2021 Abu Dhabi Grand Prix, the procedures for the safety car restart were changed. Rather than waiting until the lap after the last car has unlapped itself from the leader, the safety car would now be withdrawn one lap after the instruction that lapped cars may unlap themselves has been given. Additionally, the wording of the regulations was altered and now state that \"all\" cars rather than \"any\" cars will be allowed to unlap themselves, if deemed safe by the race director.\nFrom the Australian Grand Prix onwards, the FIA started clamping down on the kinds of tactics Max Verstappen employed during the final safety car restart at the 2021 Abu Dhabi Grand Prix and at subsequent safety car restarts at the first two rounds of the championship, the Bahrain and Saudi Arabian Grands Prix, where he aggressively accelerated, braked, and drew alongside another car during the restart, trying to seek a tactical advantage over rival drivers. Drivers would be expected to drive in a consistent manner during race restarts.\n\n\n==== Starting tyre choice ====\nThe rule that had been in place since 2014, requiring drivers that advance to the third segment of qualifying to start the race on the tyres they used to set their fastest time in the second segment of qualifying, was scrapped; all drivers now have free choice of starting tyre for the race on Sunday at all events.\n\n\n=== Financial regulations ===\nIn July, ahead of the 11th round, the Austrian Grand Prix, it was announced that the planned spending allowance of US$141.2 million would be increased by 3.1% after concerns that high inflation could lead to several teams spending over the originally planned budget cap.\n\n\n== Season summary ==\n\n\n=== Pre-season ===\nDue to the change in technical regulations, Formula One decided to hold two winter tests at two different tracks to help teams gather more data on their new cars, with Circuit de Barcelona-Catalunya in Montmeló hosting the first on 23–25 February and Bahrain International Circuit in Sakhir hosting the second on 10–12 March. The pre-season test suggested that Ferrari and Red Bull were the two strongest teams, ahead of reigning Constructors' Champion Mercedes.\n\n\n=== Opening rounds ===\nFor the season-opening Bahrain Grand Prix, Ferrari's Charles Leclerc took pole position, ahead of Red Bull driver and reigning champion Max Verstappen and Leclerc's teammate Carlos Sainz. AlphaTauri's Pierre Gasly caught fire and retired on lap 46. Leclerc won the Grand Prix ahead of teammate Carlos Sainz Jr., making it a 1–2 finish for Ferrari, with Lewis Hamilton in third. The Red Bull cars of Max Verstappen and Sergio Pérez both retired late in the closing laps with fuel issues, from second and fourth respectively.\nPérez took his maiden pole position at the Saudi Arabian Grand Prix, with the two Ferraris second and third ahead of Verstappen. Only 18 drivers started the race, as Yuki Tsunoda's AlphaTauri broke down on the way to the grid after a suspected drivetrain issue, and Schumacher was withdrawn from the event after a crash in qualifying; he would return to racing in the next round. Pérez led the early laps and made a pitstop on lap 16. Williams's Nicholas Latifi hit the wall at the final corner shortly afterwards,  the two Ferraris and Verstappen made pitstops during the subsequent safety car, allowing them to gain position on Pérez. Alpine's Fernando Alonso, McLaren's Daniel Ricciardo, and Alfa Romeo's Valtteri Bottas retired after 38 laps due to technical problems. Verstappen won the race after a late overtake on Leclerc, following several laps where they exchanged positions, Sainz finished third ahead of Pérez.\n\nLeclerc won the Australian Grand Prix from pole position, set the fastest lap, and led every lap, getting the first grand slam for Ferrari since Alonso at the 2010 Singapore Grand Prix. Pérez and Mercedes's George Russell took second and third, respectively. Pérez's teammate Verstappen was running second before he retired on lap 38 due to fuel leaks causing a fire. Sainz spun out on the opening lap at turn 10 and Aston Martin's Sebastian Vettel, who made his season debut after missing the first two races as he tested positive for coronavirus with Nico Hülkenberg taking his place, crashed out in the opening stages at turn 4. Albon, who started last after he was disqualified from qualifying for failing to provide a one-litre fuel sample, finished 10th for Williams, pitting on the last lap after running 57 laps on hard tyres.\nVerstappen took pole position for the Emilia Romagna Grand Prix sprint. Despite Leclerc overtaking him at the start, Verstappen recovered, using DRS to overtake him and win the sprint, ahead of Leclerc and teammate Pérez. Verstappen won Sunday's Grand Prix from pole position to achieve the second grand slam of his career, while Pérez finished in second to give Red Bull their first 1–2 finish since the 2016 Malaysian Grand Prix. Leclerc ran in third for most of the race but spun on lap 53, falling to ninth and promoting McLaren's Lando Norris to the final podium place. Leclerc would recover to eventually finish in sixth position. The result promoted Red Bull to second in the Constructors' Championship, and Verstappen to second in the Drivers' Championship, with Leclerc's teammate Sainz suffering a second DNF in a row following a lap 1 collision with Daniel Ricciardo.\nLeclerc led Sainz for a Ferrari front-row lock-out for the first edition of the Miami Grand Prix. Behind them were the Red Bull drivers, Verstappen and Pérez, and Alfa Romeo's Bottas. Stroll and Vettel, who respectively qualified 10th and 13th, started the race from the pit lane after a fuel temperature issue. At the first corner on the opening lap, Verstappen overtook Sainz for second place and closed in on Leclerc, whom he passed for the lead on lap 9, as Leclerc struggled with the medium compound tyres. The race was neutralised on lap 41, as Norris's rear right tyre made contact with Gasly's front left, triggering a virtual safety car and then a safety car for five laps. Verstappen was pressured by Leclerc at the restart and defended his position to take the win. On lap 52, his teammate Pérez attempted to overtake Sainz into turn 1 but made a mistake and locked up. Vettel and Schumacher collided at lap 53, but no action was taken. Leclerc and Sainz finished second and third, respectively, while Pérez, who had temporarily suffered engine issues that cost him about 30 horsepower, and Russell made up the top five. After the race, Alonso was given two separate five-second penalties and finished outside of points. Magnussen had two separate incidents following the restart with Stroll, retiring on the last lap.\nLeclerc took pole position for the Spanish Grand Prix, which he led until being forced to retire on lap 27 due to a turbo and MGU-H failure. Despite DRS issues, Verstappen won the race, with Pérez letting him by on lap 49, as they were on different strategies; Russell completed the podium. Sainz had a bad start that dropped him from third to fifth, and also spun at turn 4 on lap 7 due to wind gust, followed by Verstappen due to similar issues at the same turn on lap 9, but Sainz recovered from 11th to finish fourth, ahead of Hamilton, who also made a come back from 19th, after suffering a puncture in a racing incident with Magnussen at turn 4 after the start. For the first time in the season, Red Bull led Ferrari in the Constructors' Championship, while the Drivers' Championship standings switched from a 19-point Leclerc lead to a 6-point advantage for Verstappen.\nLeclerc claimed pole position for the Monaco Grand Prix, in front of Sainz and Pérez. Two formation laps were run, 16 minutes after the scheduled start time. The start was aborted and started 50 minutes later. Due to a strategy error, Leclerc fell to fourth place behind Verstappen and Sainz, with Pérez leading the race. Ocon and Hamilton made contact on lap 18, the former getting a five-second time penalty. Five laps after Magnussen retired due to water pressure loss, Schumacher spun near the swimming pool section, splitting his car in two and causing the race to be stopped. The race was won by Pérez, followed by Sainz, Verstappen, Leclerc, and Russell.\n\n\n=== Mid-season rounds ===\nLeclerc once again claimed pole position for the Azerbaijan Grand Prix, in front of Pérez and Verstappen. Pérez immediately overtook Leclerc in turn 1 and held the lead until lap 15, where Verstappen overtook him. On lap 9, the virtual safety car was deployed after Sainz stopped at turn 4, due to a hydraulic issue. Then, on lap 20, after briefly taking the lead of the race, Leclerc suffered a power unit issue and pulled into the pits. Magnussen and Zhou also retired from the race. Tsunoda was shown the black-and-orange flag for a DRS failure, which was fixed with speed tape, and he dropped to 13th. Williams's Latifi received a ten-second stop and go penalty after for a grid infringement and was later given a five-second time penalty for ignoring blue flags.\nVerstappen took pole position for the Canadian Grand Prix, which returned to the calendar after a two-year absence, after a wet qualifying session. Alpine's Alonso started second, ahead of Sainz, while Leclerc started from the back of the grid after exceeding his quota of power unit components. Pérez started 13th following a crash in qualifying. Pérez retired on lap 8 with gearbox issues, while technical problems for Schumacher forced him to retire on lap 20. Tsunoda crashed on lap 49, bringing out the safety car and allowing Sainz to close in on Verstappen and chase down the Red Bull driver in the closing stages. Despite this, Verstappen won the race from Sainz and Hamilton, while Leclerc climbed up to 5th. Alonso was given a five-second post-race penalty for making more than one change of direction to defend a position, dropping him down from 7th to 9th.\n\nSainz claimed his first pole position at the British Grand Prix. Verstappen overtook him at turn one, before the race was red flagged following a multi-car crash, and was restarted with original positions, meaning Sainz started first again. He kept first position off the second start, before being overtaken by Verstappen several laps in. Verstappen picked up damage to his floor and dropped down to seventh. Sainz was then overtaken by Leclerc. Sainz, Pérez and Hamilton all pitted for new tyres under the safety car. With newer tyres, Leclerc was then overtaken by all three, dropping him down to fourth. Sainz won his first-ever Formula One race.\nVerstappen qualified on pole and won the second sprint of the championship at the Austrian Grand Prix. He was overtaken three times at various points by Leclerc, who eventually won the race. Sainz was quicker than Verstappen and was on for an \"easy one-two,\" before a power unit issue saw him retire, leaving Verstappen second and promoting Hamilton to third.\nRussell took his maiden pole position at the Hungarian Grand Prix while Red Bull Racing struggled in qualifying, with Verstappen suffering MGU-K problems and Pérez unable to get a clean lap in Q2 leaving them tenth and eleventh on the grid. Verstappen made a strong recovery drive, working his way up the order with better strategy and pace. Verstappen won from Hamilton, who recovered from seventh, following a DRS failure in qualifying. Russell came third after being passed by Hamilton with five laps to go. Sainz and Leclerc finished fourth and sixth respectively after questionable strategy calls from the Ferrari pit wall.\nThe Belgian Grand Prix was the first race held after the August break, with several drivers taking on additional components and incurring grid penalties for doing so. Sainz started the race from pole; Alonso and Hamilton made contact after a scrap at Les Combes. Hamilton was forced to retire his car shortly afterwards, and an incursion between Latifi and Bottas on the second lap drew out the safety car. Verstappen made quick work of the cars ahead at the restart, with Pérez following to secure a one-two finish for Red Bull Racing. Sainz rounded out the podium. Leclerc pitted for new soft tyres on the penultimate lap to attempt the fastest lap and incurred a time penalty for speeding in the pit lane, demoting him to sixth after the race.\nAt the Dutch Grand Prix, Verstappen was able to beat Leclerc to pole at his home race. On lap 45, Tsunoda pulled over with an issue on the front-left tyre, however Tsunoda was told to continue, coming in a lap later for a change of tyres and to tighten his seatbelt, which he had loosened when he was preparing to abandon his car on the track. On lap 47, Tsunoda retired with a differential issue. This brought out a virtual safety car, allowing Verstappen to make a pit stop to keep the lead ahead of the two Mercedes. On lap 55, Bottas retired with an engine issue, bringing out a full safety car. Verstappen overtook Hamilton at the restart almost immediately, while Sainz received a five-second penalty for an unsafe release during his pit stop. After Russell made a split-second decision to pit again for faster softs, he overtook Hamilton, who fell to fourth after being overtaken by Leclerc as well. Following the race, a conspiracy theory emerged accusing Red Bull Racing strategist Hannah Schmitz of conspiring with sister team AlphaTauri to ensure a favourable result for Verstappen, after questioning the nature of Tsunoda's retirement. The incident was looked into by race stewards, whose only action was to reprimand Tsunoda for having undone his belts on track.\nLeclerc took pole at the Italian Grand Prix with Verstappen taking second. He, alongside Sainz and Hamilton, took penalties for replacing components. Verstappen started from seventh, but reached second by lap 5, behind Leclerc who had held successfully defended first position. After Vettel experienced an engine failure on lap 10, Leclerc pitted under the virtual safety car. Verstappen would then lead the race until he pitted on lap 26. Alonso's Alpine would then be retired because of a water pressure issue on lap 31, but was returned to the pit lane to avoid any disruptions to the race. Leclerc made a second pit stop on lap 34, again giving Verstappen the lead. Stroll retired on lap 39 and on lap 47, Ricciardo stopped his car on the side of the track and a safety car was deployed. Verstappen held the position and won under the safety car.\n\n\n=== Closing rounds ===\n\nThe Singapore Grand Prix was the first race wherein Verstappen could win the championship mathematically, needing to outscore Leclerc by 22 points, Pérez by 13 and George Russell by 6. If Verstappen came first with the fastest lap while Leclerc came eighth or lower and Pérez came fourth or lower, or if Verstappen came first without the fastest lap while Leclerc came ninth or lower and Pérez came either fourth without the fastest lap or fifth with, Verstappen would be the champion. Leclerc was on pole after Verstappen abandoned two qualifying laps, the first due to traffic, and the second to ensure there would be enough fuel for the governing body to take a sample at the end of the session, thus avoiding a disqualification from the qualifying session. Verstappen started in eighth. The race was delayed by over an hour due to thunderstorms. Pérez won the race, followed by Leclerc and Sainz. Verstappen came seventh.\nFollowing Verstappen's failure to secure the championship at the Singapore Grand Prix, several permutations could net him the championship at the following Japanese Grand Prix. He needed to outscore Leclerc by eight points and Pérez by six. Verstappen would secure pole, in front of Leclerc, Sainz, and Pérez. The race began on time despite poor weather and was red-flagged after two laps following an accident involving Sainz. The deployment of the recovery vehicle during the red flag was criticised; Gasly narrowly missed it in poor weather conditions. Gasly angrily remonstrated that \"[he] could have killed [himself]\" if he had lost control and hit the vehicle, even at reduced speed. The race resumed at 16:15 local time behind the safety car. Only twenty-eight laps were completed before the race was curtailed due to it passing the three-hour time limit. Verstappen won by just under 27 seconds, with Leclerc coming second and Pérez coming third. After an investigation involving the latter two in the final lap, Leclerc was handed a five-second penalty, meaning he came third behind Pérez. As the race was completed, full points were awarded despite the confusion that only partial points were on offer due to the reduced total length of the race. Verstappen was crowned World Champion, having an insurmountable lead of 113 points, with only 112 still available.\nWith the Drivers' Championship secured, Red Bull Racing set about securing their first Constructors' Championship since 2013, which they did by outscoring Ferrari by twenty-two points at the United States Grand Prix. Sainz took his third pole position of the season, and was spun by George Russell into turn one and forced to retire due to the resulting damage. Mercedes had a chance at winning after Lewis Hamilton took the lead through a very slow pit stop for Verstappen. Verstappen overturned a four-second gap to retake the lead on lap 50. This race was notable for a collision between Fernando Alonso and Lance Stroll, which sent Alonso airborne. Alonso continued and finished the race in seventh, only to receive a thirty-second penalty post-race after Haas protested the decision not to show Alonso a black and orange flag due to his right wing mirror dislodging during the race. This penalty was overturned four days later, as the FIA determined that Haas did not submit their protest within thirty minutes of the race finishing, making the protest inadmissible.\nVerstappen took his sixth pole position and his fourteenth race win of the season at the Mexico City Grand Prix, breaking the record for most wins in a Formula One season, previously held jointly by Michael Schumacher (2004) and Sebastian Vettel (2013). Daniel Ricciardo made his way from thirteenth to seventh in sixteen laps while also dealing with a ten-second time penalty due to a collision with Yuki Tsunoda.\n\nThe São Paulo Grand Prix was the third and final sprint weekend of the season, meaning qualifying was on Friday, in wet conditions. Kevin Magnussen took the first pole position of his Formula One career, as well as Haas' first. Magnussen was unable to keep the faster cars at bay during the sprint, and Mercedes were able to lock out the front row for the Grand Prix on Sunday, which they converted into their first one-two finish since the 2020 Emilia Romagna Grand Prix, with Russell taking his first win in Formula One. The race involved collisions between Magnussen and Ricciardo, Verstappen and Hamilton and, Norris and Leclerc. At the conclusion of the race, Verstappen rejected a team order to let teammate Pérez pass him for sixth place, stating that he told the team in the summer to not give Pérez any preferential team orders.\nVerstappen took a seventh pole position at the season ending Abu Dhabi Grand Prix, and a fifteenth win on the season, extending the record that he had set in Mexico City. Charles Leclerc held off a faster Sergio Pérez to claim second place, earning Leclerc second in the Drivers' Championship as well. Two Constructors' Championship places came down to the final race of the season; Mercedes was unable to pass Ferrari for second after Russell finished fifth and Hamilton retired with a gearbox failure, while Aston Martin and Alfa Romeo finished tied on points, with Alfa Romeo claiming sixth on countback. The race was the final one for Sebastian Vettel, who retired, and for Nicholas Latifi and Mick Schumacher, who were unable to secure a race seat for 2023.\n\n\n== Results and standings ==\n\n\n=== Grands Prix ===\n\n\n=== Scoring system ===\n\nPoints were awarded to the top ten classified drivers, the driver who set the fastest lap during the Grand Prix (only if one of the top ten), and the top eight of the sprint. In the case of a tie on points a countback system was used where the driver with the most Grand Prix wins was ranked higher. If the number of wins was identical then the number of second places was considered, and so on. The points were awarded for every race using the following system:\n\n\n=== World Drivers' Championship standings ===\n\nNotes:\n\n† – Driver did not finish the Grand Prix but was classified, as he completed more than 90% of the race distance.\n\n\n=== World Constructors' Championship standings ===\n\nNotes:\n\n† – Driver did not finish the Grand Prix, but was classified as he completed more than 90% of the race distance.\nRows are not related to the drivers: within each team, individual Grand Prix standings are sorted purely based on the final classification in the race (not by total points scored in the event, which includes points awarded for fastest lap and sprint).\n\n\n== Notes ==\n\n\n== References ==\n\n\n== External links ==\nOfficial website",
         "2022 Formula One World Championship"
        ]
       ],
       "shape": {
        "columns": 3,
        "rows": 1
       }
      },
      "text/html": [
       "<div>\n",
       "<style scoped>\n",
       "    .dataframe tbody tr th:only-of-type {\n",
       "        vertical-align: middle;\n",
       "    }\n",
       "\n",
       "    .dataframe tbody tr th {\n",
       "        vertical-align: top;\n",
       "    }\n",
       "\n",
       "    .dataframe thead th {\n",
       "        text-align: right;\n",
       "    }\n",
       "</style>\n",
       "<table border=\"1\" class=\"dataframe\">\n",
       "  <thead>\n",
       "    <tr style=\"text-align: right;\">\n",
       "      <th></th>\n",
       "      <th>Link</th>\n",
       "      <th>page_content</th>\n",
       "      <th>display_title</th>\n",
       "    </tr>\n",
       "  </thead>\n",
       "  <tbody>\n",
       "    <tr>\n",
       "      <th>0</th>\n",
       "      <td>2022_Formula_One_World_Championship</td>\n",
       "      <td>The 2022 FIA Formula One World Championship wa...</td>\n",
       "      <td>2022 Formula One World Championship</td>\n",
       "    </tr>\n",
       "  </tbody>\n",
       "</table>\n",
       "</div>"
      ],
      "text/plain": [
       "                                  Link  \\\n",
       "0  2022_Formula_One_World_Championship   \n",
       "\n",
       "                                        page_content  \\\n",
       "0  The 2022 FIA Formula One World Championship wa...   \n",
       "\n",
       "                         display_title  \n",
       "0  2022 Formula One World Championship  "
      ]
     },
     "execution_count": 13,
     "metadata": {},
     "output_type": "execute_result"
    }
   ],
   "source": [
    "build_df_from_wikipedia(load_csv('f1_2022.csv'))"
   ]
  },
  {
   "cell_type": "code",
   "execution_count": null,
   "metadata": {},
   "outputs": [],
   "source": [
    "def print_recommendations_from_plot(\n",
    "        strings:list[str],\n",
    "        plot:str,\n",
    "        k_nearest_neighbors:int=3,\n",
    "        model:str=EMBEDDING_MODEL\n",
    "):\n",
    "    embeddings = [embedding_from_text(text, model=model)['embedding'] for text in strings]\n",
    "    # query_embedding = embeddings[index_of_source_strings]\n",
    "    query_embedding = embedding_from_text(plot, model=model)['embedding'] \n",
    "    distances = distances_from_embeddings(query_embedding, embeddings)\n",
    "    # distances = [float(distance) for distance in distances]\n",
    "    indexes = indices_of_nearest_neighbors_from_distances(distances)\n",
    "    near_k_indexes = indexes[1:1+k_nearest_neighbors]\n",
    "    # return [list(CACHE.values())[x]['title'] for x in near_k_indexes]"
   ]
  }
 ],
 "metadata": {
  "kernelspec": {
   "display_name": ".venv",
   "language": "python",
   "name": "python3"
  },
  "language_info": {
   "codemirror_mode": {
    "name": "ipython",
    "version": 3
   },
   "file_extension": ".py",
   "mimetype": "text/x-python",
   "name": "python",
   "nbconvert_exporter": "python",
   "pygments_lexer": "ipython3",
   "version": "3.12.4"
  }
 },
 "nbformat": 4,
 "nbformat_minor": 2
}
