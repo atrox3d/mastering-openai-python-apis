{
 "cells": [
  {
   "cell_type": "markdown",
   "metadata": {},
   "source": [
    "# imports"
   ]
  },
  {
   "cell_type": "code",
   "execution_count": 13,
   "metadata": {},
   "outputs": [],
   "source": [
    "from typing import Dict, List, Optional\n",
    "from io import StringIO\n",
    "import csv\n",
    "import requests\n",
    "import os\n",
    "import itertools\n",
    "import tiktoken\n",
    "import openai\n",
    "import pandas as pd\n",
    "from dotenv import load_dotenv\n",
    "import ollama\n",
    "import logging\n",
    "from pathlib import Path\n",
    "\n",
    "# from utilities import num_token_from_messages, memoize_sqlite\n",
    "\n",
    "from helpers.notebook.cache import memoize_to_sqlite\n",
    "\n",
    "from helpers.notebook.embeddings import (\n",
    "    get_embedding,\n",
    "    embedding_from_text,\n",
    "    distances_from_embeddings,\n",
    "    indices_of_nearest_neighbors_from_distances\n",
    ")\n",
    "\n",
    "from helpers.notebook.defaults import (\n",
    "    DATA_PATH,\n",
    "    INPUT_FILE,\n",
    "    OUTPUT_FILE,\n",
    "    INPUT_PATH,\n",
    "    EMBEDDING_MODEL,\n",
    ")\n"
   ]
  },
  {
   "cell_type": "markdown",
   "metadata": {},
   "source": [
    "# create api clients"
   ]
  },
  {
   "cell_type": "code",
   "execution_count": 14,
   "metadata": {},
   "outputs": [],
   "source": [
    "load_dotenv()\n",
    "client = openai.OpenAI()\n",
    "embed_client = ollama.Client()\n"
   ]
  },
  {
   "cell_type": "markdown",
   "metadata": {},
   "source": [
    "# constants"
   ]
  },
  {
   "cell_type": "code",
   "execution_count": 15,
   "metadata": {},
   "outputs": [],
   "source": [
    "MAX_CONTEXT_WINDOW = 4096\n",
    "MINIMUM_RESPONSE_SPACE = 1000\n",
    "MAX_PROMPT_SIZE = MAX_CONTEXT_WINDOW - MINIMUM_RESPONSE_SPACE"
   ]
  },
  {
   "cell_type": "markdown",
   "metadata": {},
   "source": [
    "# functions"
   ]
  },
  {
   "cell_type": "markdown",
   "metadata": {},
   "source": [
    "## load_csv"
   ]
  },
  {
   "cell_type": "code",
   "execution_count": 16,
   "metadata": {},
   "outputs": [],
   "source": [
    "def load_csv(filename:str, path:str=DATA_PATH):\n",
    "    return pd.read_csv(\n",
    "        Path(path, filename)\n",
    "    )"
   ]
  },
  {
   "cell_type": "markdown",
   "metadata": {},
   "source": [
    "## wikipedia_api_fetch"
   ]
  },
  {
   "cell_type": "code",
   "execution_count": 17,
   "metadata": {},
   "outputs": [],
   "source": [
    "@memoize_to_sqlite('cache.db')\n",
    "def wikipedia_api_fetch(\n",
    "        title:str,\n",
    "        field:str\n",
    ") -> str:\n",
    "    base_url = 'https://en.wikipedia.org/w/api.php'\n",
    "    \n",
    "    params = {\n",
    "        'action': 'query',\n",
    "        'format': 'json',\n",
    "        'prop': 'extracts',\n",
    "        'titles': title,\n",
    "        'explaintext': True\n",
    "    }\n",
    "    \n",
    "    # req = requests.Request('GET', base_url, params=params)\n",
    "    # print(req.prepare().url)\n",
    "    \n",
    "    response = requests.get(base_url, params=params)\n",
    "    data = response.json()\n",
    "    \n",
    "    if 'query' in data and 'pages' in data['query']:\n",
    "        page:dict = list(data['query']['pages'].values())[0]\n",
    "        if field in page:\n",
    "            return page[field]\n",
    "        else:\n",
    "            raise ValueError(f'Could not find {field} for page {page}')\n",
    "    return data\n"
   ]
  },
  {
   "cell_type": "markdown",
   "metadata": {},
   "source": [
    "## build_df_from_wikipedia"
   ]
  },
  {
   "cell_type": "code",
   "execution_count": 18,
   "metadata": {},
   "outputs": [],
   "source": [
    "def build_df_from_wikipedia(df:pd.DataFrame) -> pd.DataFrame:\n",
    "    df['page_content'] = df['Link'].apply(lambda link: wikipedia_api_fetch(link, 'extract'))\n",
    "    df['title'] = df['Link'].apply(lambda link: wikipedia_api_fetch(link, 'title'))\n",
    "    \n",
    "    return df"
   ]
  },
  {
   "cell_type": "code",
   "execution_count": null,
   "metadata": {},
   "outputs": [],
   "source": [
    "import re\n",
    "\n",
    "\n",
    "def wikipedia_splitter(contents:str, title:str, split_regexes:list[str], token_limit:int|None=None):\n",
    "    regex = split_regexes[0]\n",
    "    sections = re.split(regex, contents)\n",
    "    \n",
    "    if not sections[0].strip():\n",
    "        sections.pop(0)\n",
    "    else:\n",
    "        first_section = sections.pop(0)\n",
    "        "
   ]
  },
  {
   "cell_type": "markdown",
   "metadata": {},
   "source": [
    "## pseudo main"
   ]
  },
  {
   "cell_type": "code",
   "execution_count": 55,
   "metadata": {},
   "outputs": [],
   "source": [
    "logging.basicConfig(level=logging.INFO)\n",
    "\n",
    "df = load_csv('f1_2022.csv')\n"
   ]
  },
  {
   "cell_type": "code",
   "execution_count": null,
   "metadata": {},
   "outputs": [
    {
     "name": "stderr",
     "output_type": "stream",
     "text": [
      "INFO:helpers.notebook.cache:found result returning cached value\n",
      "INFO:helpers.notebook.cache:found result returning cached value\n"
     ]
    }
   ],
   "source": [
    "build_df_from_wikipedia(df)\n",
    "\n",
    "# \\s in regex matches any whitespace character (spaces, tabs, line breaks)\n",
    "# split_regexes = [r'\\n=+\\s', r'\\n+']\n",
    "split_regexes = [r'\\n==\\s', r'\\n===\\s', r'\\n====\\s', r'\\n\\n', r'\\n']\n",
    "\n",
    "# sections = []\n",
    "# for index, row in df.iterrows():\n",
    "#     page_content = row['page_content']\n",
    "#     title = row['title']\n",
    "#     for section in wikipedia_splitter(page_content, title, split_regexes):\n",
    "#         sections.append(section)\n",
    "title, content = tuple(df.iloc[0][['title', 'page_content']])\n"
   ]
  },
  {
   "cell_type": "code",
   "execution_count": null,
   "metadata": {},
   "outputs": [],
   "source": [
    "sections = wikipedia_splitter(content, title, split_regexes)\n",
    "\n",
    "[section[:20] if section else section for section in sections if section]"
   ]
  },
  {
   "cell_type": "markdown",
   "metadata": {},
   "source": [
    "# ignore for now"
   ]
  },
  {
   "cell_type": "code",
   "execution_count": null,
   "metadata": {},
   "outputs": [],
   "source": [
    "def print_recommendations_from_plot(\n",
    "        strings:list[str],\n",
    "        plot:str,\n",
    "        k_nearest_neighbors:int=3,\n",
    "        model:str=EMBEDDING_MODEL\n",
    "):\n",
    "    embeddings = [embedding_from_text(text, model=model)['embedding'] for text in strings]\n",
    "    # query_embedding = embeddings[index_of_source_strings]\n",
    "    query_embedding = embedding_from_text(plot, model=model)['embedding'] \n",
    "    distances = distances_from_embeddings(query_embedding, embeddings)\n",
    "    # distances = [float(distance) for distance in distances]\n",
    "    indexes = indices_of_nearest_neighbors_from_distances(distances)\n",
    "    near_k_indexes = indexes[1:1+k_nearest_neighbors]\n",
    "    # return [list(CACHE.values())[x]['title'] for x in near_k_indexes]"
   ]
  }
 ],
 "metadata": {
  "kernelspec": {
   "display_name": ".venv",
   "language": "python",
   "name": "python3"
  },
  "language_info": {
   "codemirror_mode": {
    "name": "ipython",
    "version": 3
   },
   "file_extension": ".py",
   "mimetype": "text/x-python",
   "name": "python",
   "nbconvert_exporter": "python",
   "pygments_lexer": "ipython3",
   "version": "3.12.4"
  }
 },
 "nbformat": 4,
 "nbformat_minor": 2
}
